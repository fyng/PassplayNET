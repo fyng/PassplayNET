{
 "cells": [
  {
   "cell_type": "code",
   "execution_count": 86,
   "metadata": {
    "collapsed": true,
    "pycharm": {
     "name": "#%%\n"
    }
   },
   "outputs": [],
   "source": [
    "from sklearn.model_selection import train_test_split\n",
    "from sklearn.ensemble import RandomForestRegressor\n",
    "from sklearn.metrics import mean_squared_error\n",
    "from sklearn.model_selection import GridSearchCV\n",
    "from sklearn.decomposition import PCA\n",
    "from datetime import datetime\n",
    "from sklearn.model_selection import RandomizedSearchCV\n",
    "from joblib import dump, load\n",
    "import pandas as pd\n",
    "import numpy as np\n",
    "import matplotlib.pyplot as plt\n",
    "import seaborn as sns\n",
    "from datetime import datetime"
   ]
  },
  {
   "cell_type": "code",
   "execution_count": 76,
   "outputs": [
    {
     "data": {
      "text/plain": "0       False\n1        True\n2        True\n3        True\n4        True\n        ...  \n8066    False\n8067    False\n8068    False\n8069    False\n8070    False\nName: playDirection, Length: 8071, dtype: bool"
     },
     "execution_count": 76,
     "metadata": {},
     "output_type": "execute_result"
    }
   ],
   "source": [],
   "metadata": {
    "collapsed": false,
    "pycharm": {
     "name": "#%%\n"
    }
   }
  },
  {
   "cell_type": "code",
   "execution_count": 87,
   "outputs": [
    {
     "name": "stderr",
     "output_type": "stream",
     "text": [
      "C:\\Users\\Tad\\anaconda3\\lib\\site-packages\\IPython\\core\\interactiveshell.py:3418: DtypeWarning: Columns (389) have mixed types.Specify dtype option on import or set low_memory=False.\n",
      "  exec(code_obj, self.user_global_ns, self.user_ns)\n"
     ]
    }
   ],
   "source": [
    "data = pd.read_csv(\"training_data_with_player_direction.csv\")"
   ],
   "metadata": {
    "collapsed": false,
    "pycharm": {
     "name": "#%%\n"
    }
   }
  },
  {
   "cell_type": "code",
   "execution_count": 88,
   "outputs": [
    {
     "name": "stdout",
     "output_type": "stream",
     "text": [
      "x_0.1_LT\n",
      "x_0.2_LT\n",
      "x_0.3_LT\n",
      "x_0.4_LT\n",
      "x_0.5_LT\n",
      "x_0.6_LT\n",
      "x_0.7_LT\n",
      "x_0.8_LT\n",
      "x_0.9_LT\n",
      "x_1_LT\n",
      "x_0.1_LG\n",
      "x_0.2_LG\n",
      "x_0.3_LG\n",
      "x_0.4_LG\n",
      "x_0.5_LG\n",
      "x_0.6_LG\n",
      "x_0.7_LG\n",
      "x_0.8_LG\n",
      "x_0.9_LG\n",
      "x_1_LG\n",
      "x_0.1_C\n",
      "x_0.2_C\n",
      "x_0.3_C\n",
      "x_0.4_C\n",
      "x_0.5_C\n",
      "x_0.6_C\n",
      "x_0.7_C\n",
      "x_0.8_C\n",
      "x_0.9_C\n",
      "x_1_C\n",
      "x_0.1_RG\n",
      "x_0.2_RG\n",
      "x_0.3_RG\n",
      "x_0.4_RG\n",
      "x_0.5_RG\n",
      "x_0.6_RG\n",
      "x_0.7_RG\n",
      "x_0.8_RG\n",
      "x_0.9_RG\n",
      "x_1_RG\n",
      "x_0.1_RT\n",
      "x_0.2_RT\n",
      "x_0.3_RT\n",
      "x_0.4_RT\n",
      "x_0.5_RT\n",
      "x_0.6_RT\n",
      "x_0.7_RT\n",
      "x_0.8_RT\n",
      "x_0.9_RT\n",
      "x_1_RT\n",
      "y_0.1_LT\n",
      "y_0.2_LT\n",
      "y_0.3_LT\n",
      "y_0.4_LT\n",
      "y_0.5_LT\n",
      "y_0.6_LT\n",
      "y_0.7_LT\n",
      "y_0.8_LT\n",
      "y_0.9_LT\n",
      "y_1_LT\n",
      "y_0.1_LG\n",
      "y_0.2_LG\n",
      "y_0.3_LG\n",
      "y_0.4_LG\n",
      "y_0.5_LG\n",
      "y_0.6_LG\n",
      "y_0.7_LG\n",
      "y_0.8_LG\n",
      "y_0.9_LG\n",
      "y_1_LG\n",
      "y_0.1_C\n",
      "y_0.2_C\n",
      "y_0.3_C\n",
      "y_0.4_C\n",
      "y_0.5_C\n",
      "y_0.6_C\n",
      "y_0.7_C\n",
      "y_0.8_C\n",
      "y_0.9_C\n",
      "y_1_C\n",
      "y_0.1_RG\n",
      "y_0.2_RG\n",
      "y_0.3_RG\n",
      "y_0.4_RG\n",
      "y_0.5_RG\n",
      "y_0.6_RG\n",
      "y_0.7_RG\n",
      "y_0.8_RG\n",
      "y_0.9_RG\n",
      "y_1_RG\n",
      "y_0.1_RT\n",
      "y_0.2_RT\n",
      "y_0.3_RT\n",
      "y_0.4_RT\n",
      "y_0.5_RT\n",
      "y_0.6_RT\n",
      "y_0.7_RT\n",
      "y_0.8_RT\n",
      "y_0.9_RT\n",
      "y_1_RT\n",
      "s_0.1_LT\n",
      "s_0.2_LT\n",
      "s_0.3_LT\n",
      "s_0.4_LT\n",
      "s_0.5_LT\n",
      "s_0.6_LT\n",
      "s_0.7_LT\n",
      "s_0.8_LT\n",
      "s_0.9_LT\n",
      "s_1_LT\n",
      "s_0.1_LG\n",
      "s_0.2_LG\n",
      "s_0.3_LG\n",
      "s_0.4_LG\n",
      "s_0.5_LG\n",
      "s_0.6_LG\n",
      "s_0.7_LG\n",
      "s_0.8_LG\n",
      "s_0.9_LG\n",
      "s_1_LG\n"
     ]
    },
    {
     "name": "stderr",
     "output_type": "stream",
     "text": [
      "<ipython-input-88-6ac72a48b748>:23: PerformanceWarning: DataFrame is highly fragmented.  This is usually the result of calling `frame.insert` many times, which has poor performance.  Consider joining all columns at once using pd.concat(axis=1) instead.  To get a de-fragmented frame, use `newframe = frame.copy()`\n",
      "  data_transformed[delta_col_name] = (data_transformed[col_name] - data_transformed[prev_time_col_name]) * data_transformed['play_direction_numerical']\n"
     ]
    },
    {
     "name": "stdout",
     "output_type": "stream",
     "text": [
      "s_0.1_C\n",
      "s_0.2_C\n",
      "s_0.3_C\n",
      "s_0.4_C\n",
      "s_0.5_C\n",
      "s_0.6_C\n",
      "s_0.7_C\n",
      "s_0.8_C\n",
      "s_0.9_C\n",
      "s_1_C\n",
      "s_0.1_RG\n",
      "s_0.2_RG\n",
      "s_0.3_RG\n",
      "s_0.4_RG\n",
      "s_0.5_RG\n",
      "s_0.6_RG\n",
      "s_0.7_RG\n",
      "s_0.8_RG\n",
      "s_0.9_RG\n",
      "s_1_RG\n",
      "s_0.1_RT\n",
      "s_0.2_RT\n",
      "s_0.3_RT\n",
      "s_0.4_RT\n",
      "s_0.5_RT\n",
      "s_0.6_RT\n",
      "s_0.7_RT\n",
      "s_0.8_RT\n",
      "s_0.9_RT\n",
      "s_1_RT\n",
      "a_0.1_LT\n",
      "a_0.2_LT\n",
      "a_0.3_LT\n",
      "a_0.4_LT\n",
      "a_0.5_LT\n",
      "a_0.6_LT\n",
      "a_0.7_LT\n",
      "a_0.8_LT\n",
      "a_0.9_LT\n",
      "a_1_LT\n",
      "a_0.1_LG\n",
      "a_0.2_LG\n",
      "a_0.3_LG\n",
      "a_0.4_LG\n",
      "a_0.5_LG\n",
      "a_0.6_LG\n",
      "a_0.7_LG\n",
      "a_0.8_LG\n",
      "a_0.9_LG\n",
      "a_1_LG\n",
      "a_0.1_C\n",
      "a_0.2_C\n",
      "a_0.3_C\n",
      "a_0.4_C\n",
      "a_0.5_C\n",
      "a_0.6_C\n",
      "a_0.7_C\n",
      "a_0.8_C\n",
      "a_0.9_C\n",
      "a_1_C\n",
      "a_0.1_RG\n",
      "a_0.2_RG\n",
      "a_0.3_RG\n",
      "a_0.4_RG\n",
      "a_0.5_RG\n",
      "a_0.6_RG\n",
      "a_0.7_RG\n",
      "a_0.8_RG\n",
      "a_0.9_RG\n",
      "a_1_RG\n",
      "a_0.1_RT\n",
      "a_0.2_RT\n",
      "a_0.3_RT\n",
      "a_0.4_RT\n",
      "a_0.5_RT\n",
      "a_0.6_RT\n",
      "a_0.7_RT\n",
      "a_0.8_RT\n",
      "a_0.9_RT\n",
      "a_1_RT\n",
      "dir_0.1_LT\n",
      "dir_0.2_LT\n",
      "dir_0.3_LT\n",
      "dir_0.4_LT\n",
      "dir_0.5_LT\n",
      "dir_0.6_LT\n",
      "dir_0.7_LT\n",
      "dir_0.8_LT\n",
      "dir_0.9_LT\n",
      "dir_1_LT\n",
      "dir_0.1_LG\n",
      "dir_0.2_LG\n",
      "dir_0.3_LG\n",
      "dir_0.4_LG\n",
      "dir_0.5_LG\n",
      "dir_0.6_LG\n",
      "dir_0.7_LG\n",
      "dir_0.8_LG\n",
      "dir_0.9_LG\n",
      "dir_1_LG\n",
      "dir_0.1_C\n",
      "dir_0.2_C\n",
      "dir_0.3_C\n",
      "dir_0.4_C\n",
      "dir_0.5_C\n",
      "dir_0.6_C\n",
      "dir_0.7_C\n",
      "dir_0.8_C\n",
      "dir_0.9_C\n",
      "dir_1_C\n",
      "dir_0.1_RG\n",
      "dir_0.2_RG\n",
      "dir_0.3_RG\n",
      "dir_0.4_RG\n",
      "dir_0.5_RG\n",
      "dir_0.6_RG\n",
      "dir_0.7_RG\n",
      "dir_0.8_RG\n",
      "dir_0.9_RG\n",
      "dir_1_RG\n",
      "dir_0.1_RT\n",
      "dir_0.2_RT\n",
      "dir_0.3_RT\n",
      "dir_0.4_RT\n",
      "dir_0.5_RT\n",
      "dir_0.6_RT\n",
      "dir_0.7_RT\n",
      "dir_0.8_RT\n",
      "dir_0.9_RT\n",
      "dir_1_RT\n",
      "dis_0.1_LT\n",
      "dis_0.2_LT\n",
      "dis_0.3_LT\n",
      "dis_0.4_LT\n",
      "dis_0.5_LT\n",
      "dis_0.6_LT\n",
      "dis_0.7_LT\n",
      "dis_0.8_LT\n",
      "dis_0.9_LT\n",
      "dis_1_LT\n",
      "dis_0.1_LG\n",
      "dis_0.2_LG\n",
      "dis_0.3_LG\n",
      "dis_0.4_LG\n",
      "dis_0.5_LG\n",
      "dis_0.6_LG\n",
      "dis_0.7_LG\n",
      "dis_0.8_LG\n",
      "dis_0.9_LG\n",
      "dis_1_LG\n",
      "dis_0.1_C\n",
      "dis_0.2_C\n",
      "dis_0.3_C\n",
      "dis_0.4_C\n",
      "dis_0.5_C\n",
      "dis_0.6_C\n",
      "dis_0.7_C\n",
      "dis_0.8_C\n",
      "dis_0.9_C\n",
      "dis_1_C\n",
      "dis_0.1_RG\n",
      "dis_0.2_RG\n",
      "dis_0.3_RG\n",
      "dis_0.4_RG\n",
      "dis_0.5_RG\n",
      "dis_0.6_RG\n",
      "dis_0.7_RG\n",
      "dis_0.8_RG\n",
      "dis_0.9_RG\n",
      "dis_1_RG\n",
      "dis_0.1_RT\n",
      "dis_0.2_RT\n",
      "dis_0.3_RT\n",
      "dis_0.4_RT\n",
      "dis_0.5_RT\n",
      "dis_0.6_RT\n",
      "dis_0.7_RT\n",
      "dis_0.8_RT\n",
      "dis_0.9_RT\n",
      "dis_1_RT\n",
      "o_0.1_LT\n",
      "o_0.2_LT\n",
      "o_0.3_LT\n",
      "o_0.4_LT\n",
      "o_0.5_LT\n",
      "o_0.6_LT\n",
      "o_0.7_LT\n",
      "o_0.8_LT\n",
      "o_0.9_LT\n",
      "o_1_LT\n",
      "o_0.1_LG\n",
      "o_0.2_LG\n",
      "o_0.3_LG\n",
      "o_0.4_LG\n",
      "o_0.5_LG\n",
      "o_0.6_LG\n",
      "o_0.7_LG\n",
      "o_0.8_LG\n",
      "o_0.9_LG\n",
      "o_1_LG\n",
      "o_0.1_C\n",
      "o_0.2_C\n",
      "o_0.3_C\n",
      "o_0.4_C\n",
      "o_0.5_C\n",
      "o_0.6_C\n",
      "o_0.7_C\n",
      "o_0.8_C\n",
      "o_0.9_C\n",
      "o_1_C\n",
      "o_0.1_RG\n",
      "o_0.2_RG\n",
      "o_0.3_RG\n",
      "o_0.4_RG\n",
      "o_0.5_RG\n",
      "o_0.6_RG\n",
      "o_0.7_RG\n",
      "o_0.8_RG\n",
      "o_0.9_RG\n",
      "o_1_RG\n",
      "o_0.1_RT\n",
      "o_0.2_RT\n",
      "o_0.3_RT\n",
      "o_0.4_RT\n",
      "o_0.5_RT\n",
      "o_0.6_RT\n",
      "o_0.7_RT\n",
      "o_0.8_RT\n",
      "o_0.9_RT\n",
      "o_1_RT\n"
     ]
    },
    {
     "data": {
      "text/plain": "      x_0.1_LT  x_0_LT  delta_x_0.1_LT playDirection\n0        41.28   41.38           -0.10         right\n1       109.62  109.62           -0.00          left\n2        78.30   78.27           -0.03          left\n3        50.63   50.62           -0.01          left\n4        55.81   55.78           -0.03          left\n...        ...     ...             ...           ...\n8066     19.51   19.46            0.05           NaN\n8067     33.32   33.33           -0.01           NaN\n8068     36.18   36.19           -0.01           NaN\n8069     28.09   28.12           -0.03           NaN\n8070     28.11   28.13           -0.02           NaN\n\n[8071 rows x 4 columns]",
      "text/html": "<div>\n<style scoped>\n    .dataframe tbody tr th:only-of-type {\n        vertical-align: middle;\n    }\n\n    .dataframe tbody tr th {\n        vertical-align: top;\n    }\n\n    .dataframe thead th {\n        text-align: right;\n    }\n</style>\n<table border=\"1\" class=\"dataframe\">\n  <thead>\n    <tr style=\"text-align: right;\">\n      <th></th>\n      <th>x_0.1_LT</th>\n      <th>x_0_LT</th>\n      <th>delta_x_0.1_LT</th>\n      <th>playDirection</th>\n    </tr>\n  </thead>\n  <tbody>\n    <tr>\n      <th>0</th>\n      <td>41.28</td>\n      <td>41.38</td>\n      <td>-0.10</td>\n      <td>right</td>\n    </tr>\n    <tr>\n      <th>1</th>\n      <td>109.62</td>\n      <td>109.62</td>\n      <td>-0.00</td>\n      <td>left</td>\n    </tr>\n    <tr>\n      <th>2</th>\n      <td>78.30</td>\n      <td>78.27</td>\n      <td>-0.03</td>\n      <td>left</td>\n    </tr>\n    <tr>\n      <th>3</th>\n      <td>50.63</td>\n      <td>50.62</td>\n      <td>-0.01</td>\n      <td>left</td>\n    </tr>\n    <tr>\n      <th>4</th>\n      <td>55.81</td>\n      <td>55.78</td>\n      <td>-0.03</td>\n      <td>left</td>\n    </tr>\n    <tr>\n      <th>...</th>\n      <td>...</td>\n      <td>...</td>\n      <td>...</td>\n      <td>...</td>\n    </tr>\n    <tr>\n      <th>8066</th>\n      <td>19.51</td>\n      <td>19.46</td>\n      <td>0.05</td>\n      <td>NaN</td>\n    </tr>\n    <tr>\n      <th>8067</th>\n      <td>33.32</td>\n      <td>33.33</td>\n      <td>-0.01</td>\n      <td>NaN</td>\n    </tr>\n    <tr>\n      <th>8068</th>\n      <td>36.18</td>\n      <td>36.19</td>\n      <td>-0.01</td>\n      <td>NaN</td>\n    </tr>\n    <tr>\n      <th>8069</th>\n      <td>28.09</td>\n      <td>28.12</td>\n      <td>-0.03</td>\n      <td>NaN</td>\n    </tr>\n    <tr>\n      <th>8070</th>\n      <td>28.11</td>\n      <td>28.13</td>\n      <td>-0.02</td>\n      <td>NaN</td>\n    </tr>\n  </tbody>\n</table>\n<p>8071 rows × 4 columns</p>\n</div>"
     },
     "execution_count": 88,
     "metadata": {},
     "output_type": "execute_result"
    }
   ],
   "source": [
    "# Transform Positions\n",
    "data_transformed = data\n",
    "data_transformed['play_direction_numerical'] = 1\n",
    "data_transformed.loc[data_transformed['playDirection'] == 'left', 'play_direction_numerical'] = -1\n",
    "delta_cols = []\n",
    "for var_type in ['x', 'y', 's', 'a', 'dir', 'dis', 'o']: # note that magnitude vars (like speed and acceleration) are omitted.\n",
    "    for pos in ['LT', 'LG', 'C', 'RG', 'RT']:\n",
    "        col_name = var_type + \"_0_\" + pos\n",
    "        for time in range(1, 11): # exclude 0, include 1.0\n",
    "            time = round(time * 0.1, 1) # working with decimals\n",
    "            time_str = str(time)\n",
    "            if time == 1:\n",
    "                time_str = '1'\n",
    "            col_name = var_type + \"_\" + str(time_str) + \"_\" + pos\n",
    "            print(col_name)\n",
    "            prev_time = round(time - 0.1, 1)\n",
    "            prev_time_str = str(prev_time)\n",
    "            if prev_time == 0:\n",
    "                prev_time_str = '0' # not '0.0'\n",
    "            prev_time_col_name = var_type + \"_\" + str(prev_time_str) + \"_\" + pos\n",
    "            delta_col_name = 'delta_' + col_name\n",
    "            delta_cols.append(delta_col_name)\n",
    "            data_transformed[delta_col_name] = (data_transformed[col_name] - data_transformed[prev_time_col_name]) * data_transformed['play_direction_numerical']\n",
    "\n",
    "data_transformed[['x_0.1_LT', 'x_0_LT', 'delta_x_0.1_LT', 'playDirection']] # quick check"
   ],
   "metadata": {
    "collapsed": false,
    "pycharm": {
     "name": "#%%\n"
    }
   }
  },
  {
   "cell_type": "code",
   "execution_count": 89,
   "outputs": [
    {
     "name": "stdout",
     "output_type": "stream",
     "text": [
      "pca fitting\n",
      "[[  2.48053252   2.30231339   1.38547418 ...   0.56454111  13.43470191\n",
      "    6.08916357]\n",
      " [349.95233954  43.90541681 -34.89196529 ...  -5.97867261 -25.9317159\n",
      "  -51.37017636]\n",
      " [  5.8281259   -1.79242845   2.69609504 ...  -1.16649887  -0.78021608\n",
      "    3.15763679]\n",
      " ...\n",
      " [ -6.83382256   1.41242739 -11.11658158 ...  -4.52044     -3.28225448\n",
      "    4.51533941]\n",
      " [  7.74950203   0.76262971 -11.91659775 ...   5.98594597  -1.06322629\n",
      "    4.13080111]\n",
      " [-14.11137385 -23.24213394  -8.43440329 ...   1.10356031  -2.36437499\n",
      "    8.21776578]]\n"
     ]
    }
   ],
   "source": [
    "# Principal Component Analysis\n",
    "cols_of_interest = ['action_time'] + delta_cols\n",
    "data_all = data_transformed.dropna()\n",
    "data = data_all.select_dtypes(['number'])\n",
    "data = data[cols_of_interest]\n",
    "x = data.loc[:, data.columns != 'action_time']\n",
    "y = data['action_time']\n",
    "pca = PCA(n_components = 35) # in theory, one per variable per position\n",
    "print(\"pca fitting\")\n",
    "principal_components = pca.fit_transform(x)\n",
    "print(principal_components)\n",
    "principal_components_df = pd.DataFrame(principal_components)\n",
    "principal_components_df.to_csv(\"35_principal_components_time_to_throw.csv\")"
   ],
   "metadata": {
    "collapsed": false,
    "pycharm": {
     "name": "#%%\n"
    }
   }
  },
  {
   "cell_type": "code",
   "execution_count": 90,
   "outputs": [
    {
     "name": "stdout",
     "output_type": "stream",
     "text": [
      "completed train-test split\n"
     ]
    }
   ],
   "source": [
    "# Prep Train and Test Data\n",
    "label = data['action_time']\n",
    "principal_components_df['action_time'] = label\n",
    "X = data.loc[:, data.columns != 'action_time']\n",
    "y = data['action_time']\n",
    "x_train, x_test, y_train, y_test = train_test_split(X, y, test_size=0.25, random_state=42)\n",
    "print(\"completed train-test split\")"
   ],
   "metadata": {
    "collapsed": false,
    "pycharm": {
     "name": "#%%\n"
    }
   }
  },
  {
   "cell_type": "code",
   "execution_count": 91,
   "outputs": [
    {
     "name": "stdout",
     "output_type": "stream",
     "text": [
      "2022-12-07 23:19:25.512967\n",
      "Fitting 3 folds for each of 30 candidates, totalling 90 fits\n",
      "2022-12-07 23:21:02.077021\n"
     ]
    }
   ],
   "source": [
    "print(datetime.now())\n",
    "random_grid = { # FLAG\n",
    "    'bootstrap': [True, False],\n",
    "    'max_depth': [5, 10, 20, 50],\n",
    "    'max_features': ['sqrt', 'log2'],\n",
    "    'min_samples_leaf': [3, 5, 10],\n",
    "    'min_samples_split': [3, 5, 15],\n",
    "    'n_estimators': [250, 500, 1000, 2000],\n",
    "}\n",
    "\n",
    "rf_tuning = RandomForestRegressor()\n",
    "rf_random = RandomizedSearchCV(estimator = rf_tuning, param_distributions = random_grid, n_iter = 30, cv = 3, verbose = 2, random_state = 42, n_jobs = -1)\n",
    "rf_fit_output = rf_random.fit(x_train, y_train)\n",
    "print(datetime.now())"
   ],
   "metadata": {
    "collapsed": false,
    "pycharm": {
     "name": "#%%\n"
    }
   }
  },
  {
   "cell_type": "code",
   "execution_count": 92,
   "outputs": [
    {
     "data": {
      "text/plain": "RandomForestRegressor(bootstrap=False, max_depth=50, max_features='sqrt',\n                      min_samples_leaf=10, min_samples_split=5,\n                      n_estimators=1000)"
     },
     "execution_count": 92,
     "metadata": {},
     "output_type": "execute_result"
    }
   ],
   "source": [
    "rf_tuned = rf_fit_output.best_estimator_\n",
    "rf_tuned.fit(x_train, y_train)"
   ],
   "metadata": {
    "collapsed": false,
    "pycharm": {
     "name": "#%%\n"
    }
   }
  },
  {
   "cell_type": "code",
   "execution_count": 93,
   "outputs": [
    {
     "name": "stdout",
     "output_type": "stream",
     "text": [
      "Mean Absolute Error: 0.83 degrees.\n",
      "Accuracy: 71.31 %.\n",
      "1.7654764151944013\n",
      "0.05685678030867902\n"
     ]
    }
   ],
   "source": [
    "# Use the forest's predict method on the test data\n",
    "predictions = rf_tuned.predict(x_test)\n",
    "# Calculate the absolute errors\n",
    "errors = abs(predictions - y_test)\n",
    "# Print out the mean absolute error (mae)\n",
    "print('Mean Absolute Error:', round(np.mean(errors), 2), 'degrees.')\n",
    "\n",
    "# Calculate mean absolute percentage error (MAPE)\n",
    "mape = 100 * (errors / y_test)\n",
    "# Calculate and display accuracy\n",
    "accuracy = 100 - np.mean(mape)\n",
    "print('Accuracy:', round(accuracy, 2), '%.')\n",
    "print(mean_squared_error(y_test, predictions))\n",
    "print(rf_tuned.score(x_test, y_test))"
   ],
   "metadata": {
    "collapsed": false,
    "pycharm": {
     "name": "#%%\n"
    }
   }
  },
  {
   "cell_type": "code",
   "execution_count": null,
   "outputs": [],
   "source": [
    "test_set_with_predictions = pd.DataFrame(columns = {'actual': y_test, 'predicted': predictions})\n",
    "test_set_with_predictions['actual'] = y_test\n",
    "test_set_with_predictions['predicted'] = predictions\n",
    "test_set_with_predictions.to_csv(\"test_set_with_predictions.csv\")\n",
    "#for i in range(len(y_test)):\n",
    "#    print(y_test[i], predictions[i])"
   ],
   "metadata": {
    "collapsed": false,
    "pycharm": {
     "name": "#%%\n"
    }
   }
  },
  {
   "cell_type": "code",
   "execution_count": null,
   "outputs": [],
   "source": [],
   "metadata": {
    "collapsed": false,
    "pycharm": {
     "name": "#%%\n"
    }
   }
  }
 ],
 "metadata": {
  "kernelspec": {
   "display_name": "Python 3",
   "language": "python",
   "name": "python3"
  },
  "language_info": {
   "codemirror_mode": {
    "name": "ipython",
    "version": 2
   },
   "file_extension": ".py",
   "mimetype": "text/x-python",
   "name": "python",
   "nbconvert_exporter": "python",
   "pygments_lexer": "ipython2",
   "version": "2.7.6"
  }
 },
 "nbformat": 4,
 "nbformat_minor": 0
}