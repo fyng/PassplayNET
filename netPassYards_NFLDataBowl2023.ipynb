{
  "cells": [
    {
      "cell_type": "markdown",
      "metadata": {
        "id": "view-in-github"
      },
      "source": [
        "<a href=\"https://colab.research.google.com/github/fyng/PassplayNET/blob/main/NFLDataBowl2023.ipynb\" target=\"_parent\"><img src=\"https://colab.research.google.com/assets/colab-badge.svg\" alt=\"Open In Colab\"/></a>"
      ]
    },
    {
      "cell_type": "markdown",
      "metadata": {
        "id": "ig9_iIbNgvUD"
      },
      "source": [
        "# Import Kaggle Challenge\n",
        "\n",
        "Refer to https://www.kaggle.com/general/74235"
      ]
    },
    {
      "cell_type": "markdown",
      "metadata": {
        "id": "4iy70FU5hIkw"
      },
      "source": [
        "1. Create and upload kaggle.json"
      ]
    },
    {
      "cell_type": "code",
      "execution_count": 84,
      "metadata": {
        "id": "_8TBKm-Ngrs4"
      },
      "outputs": [],
      "source": [
        "#! pip install -q kaggle\n",
        "#! mkdir ~/.kaggle\n",
        "#! cp kaggle.json ~/.kaggle/\n",
        "#! chmod 600 ~/.kaggle/kaggle.json\n",
        "\n",
        "# # check if connection is working\n",
        "# ! kaggle datasets list"
      ]
    },
    {
      "cell_type": "code",
      "execution_count": 85,
      "metadata": {
        "id": "Zcli264bg_qp"
      },
      "outputs": [],
      "source": [
        "#! kaggle competitions download -c nfl-big-data-bowl-2023\n",
        "#! unzip /content/nfl-big-data-bowl-2023.zip"
      ]
    },
    {
      "cell_type": "markdown",
      "metadata": {
        "id": "R2VJgapns7aU"
      },
      "source": [
        "How train is made?\n",
        "\n",
        "Every row is a unique play in a unique game\n",
        "\n",
        "Every row contains relevant data of every player. \n",
        "* each variable spans 1 second, spaced with every 1/10 of a second (only 2 NAs)\n",
        "* every record is the same length\n",
        "\n",
        "Action_time based on different events (Mason and Tad)\n",
        "\n",
        "Pass yards (Feiyang & Eric)"
      ]
    },
    {
      "cell_type": "markdown",
      "metadata": {
        "id": "_VFcR8u1h2HF"
      },
      "source": [
        "# Explore Data"
      ]
    },
    {
      "cell_type": "code",
      "execution_count": 86,
      "metadata": {
        "id": "l3epmUqZh8BQ"
      },
      "outputs": [],
      "source": [
        "import pandas as pd\n",
        "import numpy as np\n",
        "import matplotlib.pyplot as plt\n",
        "from sklearn.model_selection import train_test_split\n",
        "from sklearn import preprocessing\n",
        "from google.colab import files"
      ]
    },
    {
      "cell_type": "markdown",
      "metadata": {
        "id": "Iud8dTC42nCj"
      },
      "source": [
        "### Play Data"
      ]
    },
    {
      "cell_type": "markdown",
      "metadata": {
        "id": "qnHzuEei27Qh"
      },
      "source": [
        "Play data\n",
        "* `gameId`: Game identifier, unique (numeric)\n",
        "* `playId`: Play identifier, not unique across games (numeric)\n",
        "* `playDescription`: Description of play (text)\n",
        "* `quarter`: Game quarter (numeric)\n",
        "* `down`: Down (numeric)\n",
        "* `yardsToGo`: Distance needed for a first down (numeric)\n",
        "* `possessionTeam`: Team abbr of team on offense with possession of ball (text)\n",
        "* `defensiveTeam`: Team abbr of team on defense (text)\n",
        "* `yardlineSide`: 3-letter team code corresponding to line-of-scrimmage (text)\n",
        "* `yardlineNumber`: Yard line at line-of-scrimmage (numeric)\n",
        "* `gameClock`: Time on clock of play (MM:SS)\n",
        "* `preSnapHomeScore`: Home score prior to the play (numeric)\n",
        "* `preSnapVisitorScore`: Visiting team score prior to the play (numeric)\n",
        "* `passResult`: Dropback outcome of the play (C: Complete pass, I: Incomplete pass, S: Quarterback sack, IN: Intercepted pass, R: Scramble, text)\n",
        "* `penaltyYards`: yards gained by offense by penalty (numeric)\n",
        "* `prePenaltyPlayResult`: Net yards gained by the offense, before penalty yardage (numeric)\n",
        "* `playResult`: Net yards gained by the offense, including penalty yardage (numeric)\n",
        "* `foulName[i]`: Name of the i-th penalty committed during the play. i ranges between 1 and 3 (text)\n",
        "* `foulNFLId[i]`: nflId of the player who comitted the i-th penalty during the play. i ranges between 1 and 3 (numeric)\n",
        "* `absoluteYardlineNumber`: Distance from end zone for possession team (numeric)\n",
        "* `offenseFormation`: Formation used by possession team (text)\n",
        "* `personnelO`: Personnel used by offensive team (text)\n",
        "* `defendersInTheBox`: Number of defenders in close proximity to line-of-scrimmage (numeric)\n",
        "* `personnelD`: Personnel used by defensive team (text)\n",
        "* `dropbackType`: Dropback categorization of quarterback (text)\n",
        "* `pff_playAction`: indicator for whether offense executes play action fake on the play. Variable provided by PFF (binary)\n",
        "* `pff_passCoverage`: Coverage scheme of defense. Variable provided by PFF (text)\n",
        "* `Bracket`: Recorded in the field and up to the 12 yard line in the red zone – when two offensive players have an in and out bracket by two defenders\n",
        "* `Goal Line`: Calls where a Goal Line defense is used.\n",
        "* `Red Zone`: Calls that are typically specific to the Red Zone and do not occur in the field often\n",
        "* `Prevent`: Special end of half or end of game situations where a Prevent defense is utilized\n",
        "* `Miscellaneous`: Coverage concepts that we feel do not comfortably fit into any of our coverage categories\n",
        "* `pff_passCoverageType`: Whether defense's coverage type was man, zone or other. Variable provided by PFF (text)\n",
        "\n"
      ]
    },
    {
      "cell_type": "markdown",
      "metadata": {
        "id": "KP8UXMOB9Mm8"
      },
      "source": [
        "### Tracking Data"
      ]
    },
    {
      "cell_type": "markdown",
      "metadata": {
        "id": "f7A4vtRDjAaY"
      },
      "source": [
        "Tracking data\n",
        "Files week[week].csv contains player tracking data from week [week].\n",
        "\n",
        "* `gameId`: Game identifier, unique (numeric)\n",
        "* `playId`: Play identifier, not unique across games (numeric)\n",
        "* `nflId`: Player identification number, unique across players. When value is NA, row corresponds to ball. (numeric)\n",
        "* `frameId`: Frame identifier for each play, starting at 1 (numeric)\n",
        "* `time`: Time stamp of play (time, yyyy-mm-dd, hh:mm:ss)\n",
        "* `jerseyNumber`: Jersey number of player (numeric)\n",
        "* `club`: Team abbrevation of corresponding player (text)\n",
        "* `playDirection`: Direction that the offense is moving (left or right)\n",
        "* `x`: Player position along the long axis of the field, 0 - 120 yards. See Figure 1 below. (numeric)\n",
        "* `y`: Player position along the short axis of the field, 0 - 53.3 yards. See Figure 1 below. (numeric)\n",
        "* `s`: Speed in yards/second (numeric)\n",
        "* `a`: Acceleration in yards/second^2 (numeric)\n",
        "* `dis`: Distance traveled from prior time point, in yards (numeric)\n",
        "* `o`: Player orientation (deg), 0 - 360 degrees (numeric)\n",
        "* `dir`: Angle of player motion (deg), 0 - 360 degrees (numeric)\n",
        "* `event`: Tagged play details, including moment of ball snap, pass release, pass catch, tackle, etc (text)"
      ]
    },
    {
      "cell_type": "code",
      "execution_count": 87,
      "metadata": {
        "colab": {
          "base_uri": "https://localhost:8080/"
        },
        "id": "Q2NwVcaB7E7K",
        "outputId": "feadc343-271a-4dfd-cff4-5bedcf69a689"
      },
      "outputs": [
        {
          "output_type": "stream",
          "name": "stdout",
          "text": [
            "Drive already mounted at gdrive/; to attempt to forcibly remount, call drive.mount(\"gdrive/\", force_remount=True).\n"
          ]
        }
      ],
      "source": [
        "from google.colab import drive\n",
        "drive.mount('gdrive/')\n",
        "path = \"gdrive/My Drive\" # Change path to location of data if necessary\n",
        "\n",
        "file1 = '/'.join((path,'plays.csv'))\n",
        "\n",
        "pl = pd.read_csv(file1)\n",
        "\n",
        "field = pl\n",
        "field.head()\n",
        "\n",
        "data = pd.read_csv(\"https://raw.githubusercontent.com/fyng/PassplayNET/main/training_data.csv\")\n",
        "data = data.drop(['action_time', 'event'], axis = 1)\n",
        "\n",
        "data_norm = data \n"
      ]
    },
    {
      "cell_type": "code",
      "source": [
        "import numpy as np\n",
        "#Normalized data for separate usage if needed, one-hots included\n",
        "\n",
        "rowIndex = 0\n",
        "for p in range(len(data_norm)):\n",
        "  startNum = data_norm.columns.get_loc('x_0_C') #column that starts reference\n",
        "  i = 0 #shifts between positions\n",
        "  for int in range(5):\n",
        "    newReference = startNum + i\n",
        "    startPosition = data_norm.iloc[rowIndex, newReference]\n",
        "    j = 0 #shifts across time\n",
        "    for int in range(11):\n",
        "      columnShift = newReference + (5*j)\n",
        "      data_norm.iloc[rowIndex, columnShift] -= startPosition\n",
        "      j = j + 1\n",
        "    i = i + 1\n",
        "  rowIndex = rowIndex + 1\n",
        "\n",
        "rowIndex = 0\n",
        "newReference = 0\n",
        "\n",
        "startNum = columnShift + 1 #start reference at first y-value\n",
        "for p in range(len(data_norm)):\n",
        "  i = 0 #shifts between positions\n",
        "  for int in range(5):\n",
        "    newReference = startNum + i\n",
        "    startPosition = data_norm.iloc[rowIndex, newReference]\n",
        "    j = 0 #shifts across time\n",
        "    for int in range(11):\n",
        "      columnShift = newReference + (5*j)\n",
        "      data_norm.iloc[rowIndex, columnShift] -= startPosition\n",
        "      j = j + 1\n",
        "    i = i + 1\n",
        "  rowIndex = rowIndex + 1\n",
        "\n",
        "rowTemp = 0\n",
        "data_norm['T_Diff'] = 0\n",
        "for pt in range(len(data_norm)):\n",
        "  rowToChange = data_norm.iloc[rowTemp, :]\n",
        "  complete = rowToChange.loc['T_Diff']\n",
        "  temp1 = rowToChange.loc['y_1_LT']\n",
        "  temp2 = rowToChange.loc['y_1_RT']\n",
        "  gap = (temp1 - temp2) #abs or not (can change)\n",
        "  data_norm.iloc[rowTemp, data_norm.columns.get_loc('T_Diff')] = gap\n",
        "  rowTemp += 1\n",
        "  \n",
        "rowTemp = 0\n",
        "data_norm['G_Diff'] = 0\n",
        "for pt in range(len(data_norm)):\n",
        "  rowToChange = data_norm.iloc[rowTemp, :]\n",
        "  complete = rowToChange.loc['G_Diff']\n",
        "  temp1 = rowToChange.loc['y_1_LG']\n",
        "  temp2 = rowToChange.loc['y_1_RG']\n",
        "  gap = (temp1 - temp2) #abs or not (can change)\n",
        "  data_norm.iloc[rowTemp, data_norm.columns.get_loc('G_Diff')] = gap\n",
        "  rowTemp += 1\n"
      ],
      "metadata": {
        "id": "jZ7a4KbtfXIi"
      },
      "execution_count": 88,
      "outputs": []
    },
    {
      "cell_type": "code",
      "source": [
        "# Position data of all players for the first 1 second of the game, at 0.1 second time resolution\n",
        "# Position data: x-y position, speed, acceleration, distance traveled, orientation, direction\n",
        "\n",
        "play = field[['gameId', 'playId', 'defendersInBox', 'passResult', 'yardsToGo', 'playResult', 'down', 'pff_passCoverage', 'pff_playAction']]\n",
        "\n",
        "data_norm_plays = pd.merge(data_norm, play, on=['gameId', 'playId']) #Change data_norm to data_yesPass if only want competions\n"
      ],
      "metadata": {
        "id": "0CmrAw_3oAjw"
      },
      "execution_count": 89,
      "outputs": []
    },
    {
      "cell_type": "code",
      "source": [
        "data_norm = data_norm_plays #look at merged file\n",
        "columnNumber = data_norm.columns.get_loc('passResult')\n",
        "toDrop = []\n",
        "i = 0\n",
        "for row in range(len(data_norm)): #This loop throws out incomplete passes\n",
        "  if i < len(data_norm):\n",
        "    passR = data_norm.iloc[i, columnNumber]\n",
        "    if passR == \"I\":\n",
        "      toDrop.append(i)\n",
        "  i = i + 1\n",
        "\n",
        "data_norm_plays = data_norm.drop(toDrop, axis = 0) #data_yesPass only includes completed passes\n",
        "\n",
        "# remove NaN and Inf\n",
        "\n",
        "data_norm_plays = data_norm_plays[~data_norm_plays.isin([np.nan, np.inf, -np.inf]).any(1)]\n",
        "\n",
        "data_norm_plays.head()"
      ],
      "metadata": {
        "colab": {
          "base_uri": "https://localhost:8080/",
          "height": 297
        },
        "id": "Z4Ds1zB1vSBF",
        "outputId": "ee365bd8-8f02-4746-9553-9ba466e99317"
      },
      "execution_count": 90,
      "outputs": [
        {
          "output_type": "execute_result",
          "data": {
            "text/plain": [
              "       gameId  playId  x_0_C  x_0_LT  x_0_LG  x_0_RG  x_0_RT  x_0.1_C  \\\n",
              "1  2021090900     137    0.0     0.0     0.0     0.0     0.0     0.01   \n",
              "2  2021090900     187    0.0     0.0     0.0     0.0     0.0     0.07   \n",
              "5  2021090900     410    0.0     0.0     0.0     0.0     0.0    -0.03   \n",
              "7  2021090900     456    0.0     0.0     0.0     0.0     0.0    -0.03   \n",
              "8  2021090900     480    0.0     0.0     0.0     0.0     0.0    -0.03   \n",
              "\n",
              "   x_0.1_LT  x_0.1_LG  ...  dir_1_RT  T_Diff  G_Diff  defendersInBox  \\\n",
              "1      0.00      0.02  ...     59.29   -0.92   -0.29             6.0   \n",
              "2      0.03      0.06  ...     71.08   -0.94    0.09             6.0   \n",
              "5     -0.03     -0.01  ...    256.04    0.89    0.38             6.0   \n",
              "7     -0.09     -0.01  ...    254.30    1.13   -0.18             6.0   \n",
              "8     -0.05     -0.01  ...    263.07    0.87    0.71             6.0   \n",
              "\n",
              "   passResult  yardsToGo  playResult  down  pff_passCoverage  pff_playAction  \n",
              "1           C         10          28     1           Cover-3               0  \n",
              "2           C          6           5     2           Cover-3               0  \n",
              "5           C          5          10     2           Cover-1               0  \n",
              "7           C         10          19     2           Cover-6               0  \n",
              "8           C         10          28     1           Cover-3               0  \n",
              "\n",
              "[5 rows x 396 columns]"
            ],
            "text/html": [
              "\n",
              "  <div id=\"df-392518b3-dae4-45d4-8f49-053df999444c\">\n",
              "    <div class=\"colab-df-container\">\n",
              "      <div>\n",
              "<style scoped>\n",
              "    .dataframe tbody tr th:only-of-type {\n",
              "        vertical-align: middle;\n",
              "    }\n",
              "\n",
              "    .dataframe tbody tr th {\n",
              "        vertical-align: top;\n",
              "    }\n",
              "\n",
              "    .dataframe thead th {\n",
              "        text-align: right;\n",
              "    }\n",
              "</style>\n",
              "<table border=\"1\" class=\"dataframe\">\n",
              "  <thead>\n",
              "    <tr style=\"text-align: right;\">\n",
              "      <th></th>\n",
              "      <th>gameId</th>\n",
              "      <th>playId</th>\n",
              "      <th>x_0_C</th>\n",
              "      <th>x_0_LT</th>\n",
              "      <th>x_0_LG</th>\n",
              "      <th>x_0_RG</th>\n",
              "      <th>x_0_RT</th>\n",
              "      <th>x_0.1_C</th>\n",
              "      <th>x_0.1_LT</th>\n",
              "      <th>x_0.1_LG</th>\n",
              "      <th>...</th>\n",
              "      <th>dir_1_RT</th>\n",
              "      <th>T_Diff</th>\n",
              "      <th>G_Diff</th>\n",
              "      <th>defendersInBox</th>\n",
              "      <th>passResult</th>\n",
              "      <th>yardsToGo</th>\n",
              "      <th>playResult</th>\n",
              "      <th>down</th>\n",
              "      <th>pff_passCoverage</th>\n",
              "      <th>pff_playAction</th>\n",
              "    </tr>\n",
              "  </thead>\n",
              "  <tbody>\n",
              "    <tr>\n",
              "      <th>1</th>\n",
              "      <td>2021090900</td>\n",
              "      <td>137</td>\n",
              "      <td>0.0</td>\n",
              "      <td>0.0</td>\n",
              "      <td>0.0</td>\n",
              "      <td>0.0</td>\n",
              "      <td>0.0</td>\n",
              "      <td>0.01</td>\n",
              "      <td>0.00</td>\n",
              "      <td>0.02</td>\n",
              "      <td>...</td>\n",
              "      <td>59.29</td>\n",
              "      <td>-0.92</td>\n",
              "      <td>-0.29</td>\n",
              "      <td>6.0</td>\n",
              "      <td>C</td>\n",
              "      <td>10</td>\n",
              "      <td>28</td>\n",
              "      <td>1</td>\n",
              "      <td>Cover-3</td>\n",
              "      <td>0</td>\n",
              "    </tr>\n",
              "    <tr>\n",
              "      <th>2</th>\n",
              "      <td>2021090900</td>\n",
              "      <td>187</td>\n",
              "      <td>0.0</td>\n",
              "      <td>0.0</td>\n",
              "      <td>0.0</td>\n",
              "      <td>0.0</td>\n",
              "      <td>0.0</td>\n",
              "      <td>0.07</td>\n",
              "      <td>0.03</td>\n",
              "      <td>0.06</td>\n",
              "      <td>...</td>\n",
              "      <td>71.08</td>\n",
              "      <td>-0.94</td>\n",
              "      <td>0.09</td>\n",
              "      <td>6.0</td>\n",
              "      <td>C</td>\n",
              "      <td>6</td>\n",
              "      <td>5</td>\n",
              "      <td>2</td>\n",
              "      <td>Cover-3</td>\n",
              "      <td>0</td>\n",
              "    </tr>\n",
              "    <tr>\n",
              "      <th>5</th>\n",
              "      <td>2021090900</td>\n",
              "      <td>410</td>\n",
              "      <td>0.0</td>\n",
              "      <td>0.0</td>\n",
              "      <td>0.0</td>\n",
              "      <td>0.0</td>\n",
              "      <td>0.0</td>\n",
              "      <td>-0.03</td>\n",
              "      <td>-0.03</td>\n",
              "      <td>-0.01</td>\n",
              "      <td>...</td>\n",
              "      <td>256.04</td>\n",
              "      <td>0.89</td>\n",
              "      <td>0.38</td>\n",
              "      <td>6.0</td>\n",
              "      <td>C</td>\n",
              "      <td>5</td>\n",
              "      <td>10</td>\n",
              "      <td>2</td>\n",
              "      <td>Cover-1</td>\n",
              "      <td>0</td>\n",
              "    </tr>\n",
              "    <tr>\n",
              "      <th>7</th>\n",
              "      <td>2021090900</td>\n",
              "      <td>456</td>\n",
              "      <td>0.0</td>\n",
              "      <td>0.0</td>\n",
              "      <td>0.0</td>\n",
              "      <td>0.0</td>\n",
              "      <td>0.0</td>\n",
              "      <td>-0.03</td>\n",
              "      <td>-0.09</td>\n",
              "      <td>-0.01</td>\n",
              "      <td>...</td>\n",
              "      <td>254.30</td>\n",
              "      <td>1.13</td>\n",
              "      <td>-0.18</td>\n",
              "      <td>6.0</td>\n",
              "      <td>C</td>\n",
              "      <td>10</td>\n",
              "      <td>19</td>\n",
              "      <td>2</td>\n",
              "      <td>Cover-6</td>\n",
              "      <td>0</td>\n",
              "    </tr>\n",
              "    <tr>\n",
              "      <th>8</th>\n",
              "      <td>2021090900</td>\n",
              "      <td>480</td>\n",
              "      <td>0.0</td>\n",
              "      <td>0.0</td>\n",
              "      <td>0.0</td>\n",
              "      <td>0.0</td>\n",
              "      <td>0.0</td>\n",
              "      <td>-0.03</td>\n",
              "      <td>-0.05</td>\n",
              "      <td>-0.01</td>\n",
              "      <td>...</td>\n",
              "      <td>263.07</td>\n",
              "      <td>0.87</td>\n",
              "      <td>0.71</td>\n",
              "      <td>6.0</td>\n",
              "      <td>C</td>\n",
              "      <td>10</td>\n",
              "      <td>28</td>\n",
              "      <td>1</td>\n",
              "      <td>Cover-3</td>\n",
              "      <td>0</td>\n",
              "    </tr>\n",
              "  </tbody>\n",
              "</table>\n",
              "<p>5 rows × 396 columns</p>\n",
              "</div>\n",
              "      <button class=\"colab-df-convert\" onclick=\"convertToInteractive('df-392518b3-dae4-45d4-8f49-053df999444c')\"\n",
              "              title=\"Convert this dataframe to an interactive table.\"\n",
              "              style=\"display:none;\">\n",
              "        \n",
              "  <svg xmlns=\"http://www.w3.org/2000/svg\" height=\"24px\"viewBox=\"0 0 24 24\"\n",
              "       width=\"24px\">\n",
              "    <path d=\"M0 0h24v24H0V0z\" fill=\"none\"/>\n",
              "    <path d=\"M18.56 5.44l.94 2.06.94-2.06 2.06-.94-2.06-.94-.94-2.06-.94 2.06-2.06.94zm-11 1L8.5 8.5l.94-2.06 2.06-.94-2.06-.94L8.5 2.5l-.94 2.06-2.06.94zm10 10l.94 2.06.94-2.06 2.06-.94-2.06-.94-.94-2.06-.94 2.06-2.06.94z\"/><path d=\"M17.41 7.96l-1.37-1.37c-.4-.4-.92-.59-1.43-.59-.52 0-1.04.2-1.43.59L10.3 9.45l-7.72 7.72c-.78.78-.78 2.05 0 2.83L4 21.41c.39.39.9.59 1.41.59.51 0 1.02-.2 1.41-.59l7.78-7.78 2.81-2.81c.8-.78.8-2.07 0-2.86zM5.41 20L4 18.59l7.72-7.72 1.47 1.35L5.41 20z\"/>\n",
              "  </svg>\n",
              "      </button>\n",
              "      \n",
              "  <style>\n",
              "    .colab-df-container {\n",
              "      display:flex;\n",
              "      flex-wrap:wrap;\n",
              "      gap: 12px;\n",
              "    }\n",
              "\n",
              "    .colab-df-convert {\n",
              "      background-color: #E8F0FE;\n",
              "      border: none;\n",
              "      border-radius: 50%;\n",
              "      cursor: pointer;\n",
              "      display: none;\n",
              "      fill: #1967D2;\n",
              "      height: 32px;\n",
              "      padding: 0 0 0 0;\n",
              "      width: 32px;\n",
              "    }\n",
              "\n",
              "    .colab-df-convert:hover {\n",
              "      background-color: #E2EBFA;\n",
              "      box-shadow: 0px 1px 2px rgba(60, 64, 67, 0.3), 0px 1px 3px 1px rgba(60, 64, 67, 0.15);\n",
              "      fill: #174EA6;\n",
              "    }\n",
              "\n",
              "    [theme=dark] .colab-df-convert {\n",
              "      background-color: #3B4455;\n",
              "      fill: #D2E3FC;\n",
              "    }\n",
              "\n",
              "    [theme=dark] .colab-df-convert:hover {\n",
              "      background-color: #434B5C;\n",
              "      box-shadow: 0px 1px 3px 1px rgba(0, 0, 0, 0.15);\n",
              "      filter: drop-shadow(0px 1px 2px rgba(0, 0, 0, 0.3));\n",
              "      fill: #FFFFFF;\n",
              "    }\n",
              "  </style>\n",
              "\n",
              "      <script>\n",
              "        const buttonEl =\n",
              "          document.querySelector('#df-392518b3-dae4-45d4-8f49-053df999444c button.colab-df-convert');\n",
              "        buttonEl.style.display =\n",
              "          google.colab.kernel.accessAllowed ? 'block' : 'none';\n",
              "\n",
              "        async function convertToInteractive(key) {\n",
              "          const element = document.querySelector('#df-392518b3-dae4-45d4-8f49-053df999444c');\n",
              "          const dataTable =\n",
              "            await google.colab.kernel.invokeFunction('convertToInteractive',\n",
              "                                                     [key], {});\n",
              "          if (!dataTable) return;\n",
              "\n",
              "          const docLinkHtml = 'Like what you see? Visit the ' +\n",
              "            '<a target=\"_blank\" href=https://colab.research.google.com/notebooks/data_table.ipynb>data table notebook</a>'\n",
              "            + ' to learn more about interactive tables.';\n",
              "          element.innerHTML = '';\n",
              "          dataTable['output_type'] = 'display_data';\n",
              "          await google.colab.output.renderOutput(dataTable, element);\n",
              "          const docLink = document.createElement('div');\n",
              "          docLink.innerHTML = docLinkHtml;\n",
              "          element.appendChild(docLink);\n",
              "        }\n",
              "      </script>\n",
              "    </div>\n",
              "  </div>\n",
              "  "
            ]
          },
          "metadata": {},
          "execution_count": 90
        }
      ]
    },
    {
      "cell_type": "code",
      "source": [
        "data_norm_plays"
      ],
      "metadata": {
        "colab": {
          "base_uri": "https://localhost:8080/",
          "height": 483
        },
        "id": "d5EmrpVRy8xm",
        "outputId": "c107689c-6bc7-4084-a9de-7085eecfad7e"
      },
      "execution_count": 91,
      "outputs": [
        {
          "output_type": "execute_result",
          "data": {
            "text/plain": [
              "          gameId  playId  x_0_C  x_0_LT  x_0_LG  x_0_RG  x_0_RT  x_0.1_C  \\\n",
              "1     2021090900     137    0.0     0.0     0.0     0.0     0.0     0.01   \n",
              "2     2021090900     187    0.0     0.0     0.0     0.0     0.0     0.07   \n",
              "5     2021090900     410    0.0     0.0     0.0     0.0     0.0    -0.03   \n",
              "7     2021090900     456    0.0     0.0     0.0     0.0     0.0    -0.03   \n",
              "8     2021090900     480    0.0     0.0     0.0     0.0     0.0    -0.03   \n",
              "...          ...     ...    ...     ...     ...     ...     ...      ...   \n",
              "8065  2021110100    4113    0.0     0.0     0.0     0.0     0.0     0.03   \n",
              "8066  2021110100    4310    0.0     0.0     0.0     0.0     0.0     0.03   \n",
              "8067  2021110100    4363    0.0     0.0     0.0     0.0     0.0    -0.05   \n",
              "8068  2021110100    4392    0.0     0.0     0.0     0.0     0.0    -0.06   \n",
              "8070  2021110100    4433    0.0     0.0     0.0     0.0     0.0    -0.06   \n",
              "\n",
              "      x_0.1_LT  x_0.1_LG  ...  dir_1_RT  T_Diff  G_Diff  defendersInBox  \\\n",
              "1         0.00      0.02  ...     59.29   -0.92   -0.29             6.0   \n",
              "2         0.03      0.06  ...     71.08   -0.94    0.09             6.0   \n",
              "5        -0.03     -0.01  ...    256.04    0.89    0.38             6.0   \n",
              "7        -0.09     -0.01  ...    254.30    1.13   -0.18             6.0   \n",
              "8        -0.05     -0.01  ...    263.07    0.87    0.71             6.0   \n",
              "...        ...       ...  ...       ...     ...     ...             ...   \n",
              "8065      0.04      0.01  ...     92.29   -0.81   -0.15             4.0   \n",
              "8066      0.05      0.00  ...     76.46   -1.36   -0.44             4.0   \n",
              "8067     -0.01      0.00  ...    249.27    1.19    1.31             5.0   \n",
              "8068     -0.01      0.00  ...    253.31    1.00    0.90             6.0   \n",
              "8070     -0.02      0.00  ...    253.76    0.82    1.74             6.0   \n",
              "\n",
              "      passResult  yardsToGo  playResult  down  pff_passCoverage  \\\n",
              "1              C         10          28     1           Cover-3   \n",
              "2              C          6           5     2           Cover-3   \n",
              "5              C          5          10     2           Cover-1   \n",
              "7              C         10          19     2           Cover-6   \n",
              "8              C         10          28     1           Cover-3   \n",
              "...          ...        ...         ...   ...               ...   \n",
              "8065           C         15          29     2           Cover-2   \n",
              "8066           S          8          -8     3           Bracket   \n",
              "8067           C         10           3     1           Cover-2   \n",
              "8068           S          7          -8     2           Cover-2   \n",
              "8070           S         15          -5     4          Quarters   \n",
              "\n",
              "      pff_playAction  \n",
              "1                  0  \n",
              "2                  0  \n",
              "5                  0  \n",
              "7                  0  \n",
              "8                  0  \n",
              "...              ...  \n",
              "8065               0  \n",
              "8066               0  \n",
              "8067               0  \n",
              "8068               0  \n",
              "8070               0  \n",
              "\n",
              "[5318 rows x 396 columns]"
            ],
            "text/html": [
              "\n",
              "  <div id=\"df-af6bc9c3-ffd5-4bd3-a0fe-b570d38dff7c\">\n",
              "    <div class=\"colab-df-container\">\n",
              "      <div>\n",
              "<style scoped>\n",
              "    .dataframe tbody tr th:only-of-type {\n",
              "        vertical-align: middle;\n",
              "    }\n",
              "\n",
              "    .dataframe tbody tr th {\n",
              "        vertical-align: top;\n",
              "    }\n",
              "\n",
              "    .dataframe thead th {\n",
              "        text-align: right;\n",
              "    }\n",
              "</style>\n",
              "<table border=\"1\" class=\"dataframe\">\n",
              "  <thead>\n",
              "    <tr style=\"text-align: right;\">\n",
              "      <th></th>\n",
              "      <th>gameId</th>\n",
              "      <th>playId</th>\n",
              "      <th>x_0_C</th>\n",
              "      <th>x_0_LT</th>\n",
              "      <th>x_0_LG</th>\n",
              "      <th>x_0_RG</th>\n",
              "      <th>x_0_RT</th>\n",
              "      <th>x_0.1_C</th>\n",
              "      <th>x_0.1_LT</th>\n",
              "      <th>x_0.1_LG</th>\n",
              "      <th>...</th>\n",
              "      <th>dir_1_RT</th>\n",
              "      <th>T_Diff</th>\n",
              "      <th>G_Diff</th>\n",
              "      <th>defendersInBox</th>\n",
              "      <th>passResult</th>\n",
              "      <th>yardsToGo</th>\n",
              "      <th>playResult</th>\n",
              "      <th>down</th>\n",
              "      <th>pff_passCoverage</th>\n",
              "      <th>pff_playAction</th>\n",
              "    </tr>\n",
              "  </thead>\n",
              "  <tbody>\n",
              "    <tr>\n",
              "      <th>1</th>\n",
              "      <td>2021090900</td>\n",
              "      <td>137</td>\n",
              "      <td>0.0</td>\n",
              "      <td>0.0</td>\n",
              "      <td>0.0</td>\n",
              "      <td>0.0</td>\n",
              "      <td>0.0</td>\n",
              "      <td>0.01</td>\n",
              "      <td>0.00</td>\n",
              "      <td>0.02</td>\n",
              "      <td>...</td>\n",
              "      <td>59.29</td>\n",
              "      <td>-0.92</td>\n",
              "      <td>-0.29</td>\n",
              "      <td>6.0</td>\n",
              "      <td>C</td>\n",
              "      <td>10</td>\n",
              "      <td>28</td>\n",
              "      <td>1</td>\n",
              "      <td>Cover-3</td>\n",
              "      <td>0</td>\n",
              "    </tr>\n",
              "    <tr>\n",
              "      <th>2</th>\n",
              "      <td>2021090900</td>\n",
              "      <td>187</td>\n",
              "      <td>0.0</td>\n",
              "      <td>0.0</td>\n",
              "      <td>0.0</td>\n",
              "      <td>0.0</td>\n",
              "      <td>0.0</td>\n",
              "      <td>0.07</td>\n",
              "      <td>0.03</td>\n",
              "      <td>0.06</td>\n",
              "      <td>...</td>\n",
              "      <td>71.08</td>\n",
              "      <td>-0.94</td>\n",
              "      <td>0.09</td>\n",
              "      <td>6.0</td>\n",
              "      <td>C</td>\n",
              "      <td>6</td>\n",
              "      <td>5</td>\n",
              "      <td>2</td>\n",
              "      <td>Cover-3</td>\n",
              "      <td>0</td>\n",
              "    </tr>\n",
              "    <tr>\n",
              "      <th>5</th>\n",
              "      <td>2021090900</td>\n",
              "      <td>410</td>\n",
              "      <td>0.0</td>\n",
              "      <td>0.0</td>\n",
              "      <td>0.0</td>\n",
              "      <td>0.0</td>\n",
              "      <td>0.0</td>\n",
              "      <td>-0.03</td>\n",
              "      <td>-0.03</td>\n",
              "      <td>-0.01</td>\n",
              "      <td>...</td>\n",
              "      <td>256.04</td>\n",
              "      <td>0.89</td>\n",
              "      <td>0.38</td>\n",
              "      <td>6.0</td>\n",
              "      <td>C</td>\n",
              "      <td>5</td>\n",
              "      <td>10</td>\n",
              "      <td>2</td>\n",
              "      <td>Cover-1</td>\n",
              "      <td>0</td>\n",
              "    </tr>\n",
              "    <tr>\n",
              "      <th>7</th>\n",
              "      <td>2021090900</td>\n",
              "      <td>456</td>\n",
              "      <td>0.0</td>\n",
              "      <td>0.0</td>\n",
              "      <td>0.0</td>\n",
              "      <td>0.0</td>\n",
              "      <td>0.0</td>\n",
              "      <td>-0.03</td>\n",
              "      <td>-0.09</td>\n",
              "      <td>-0.01</td>\n",
              "      <td>...</td>\n",
              "      <td>254.30</td>\n",
              "      <td>1.13</td>\n",
              "      <td>-0.18</td>\n",
              "      <td>6.0</td>\n",
              "      <td>C</td>\n",
              "      <td>10</td>\n",
              "      <td>19</td>\n",
              "      <td>2</td>\n",
              "      <td>Cover-6</td>\n",
              "      <td>0</td>\n",
              "    </tr>\n",
              "    <tr>\n",
              "      <th>8</th>\n",
              "      <td>2021090900</td>\n",
              "      <td>480</td>\n",
              "      <td>0.0</td>\n",
              "      <td>0.0</td>\n",
              "      <td>0.0</td>\n",
              "      <td>0.0</td>\n",
              "      <td>0.0</td>\n",
              "      <td>-0.03</td>\n",
              "      <td>-0.05</td>\n",
              "      <td>-0.01</td>\n",
              "      <td>...</td>\n",
              "      <td>263.07</td>\n",
              "      <td>0.87</td>\n",
              "      <td>0.71</td>\n",
              "      <td>6.0</td>\n",
              "      <td>C</td>\n",
              "      <td>10</td>\n",
              "      <td>28</td>\n",
              "      <td>1</td>\n",
              "      <td>Cover-3</td>\n",
              "      <td>0</td>\n",
              "    </tr>\n",
              "    <tr>\n",
              "      <th>...</th>\n",
              "      <td>...</td>\n",
              "      <td>...</td>\n",
              "      <td>...</td>\n",
              "      <td>...</td>\n",
              "      <td>...</td>\n",
              "      <td>...</td>\n",
              "      <td>...</td>\n",
              "      <td>...</td>\n",
              "      <td>...</td>\n",
              "      <td>...</td>\n",
              "      <td>...</td>\n",
              "      <td>...</td>\n",
              "      <td>...</td>\n",
              "      <td>...</td>\n",
              "      <td>...</td>\n",
              "      <td>...</td>\n",
              "      <td>...</td>\n",
              "      <td>...</td>\n",
              "      <td>...</td>\n",
              "      <td>...</td>\n",
              "      <td>...</td>\n",
              "    </tr>\n",
              "    <tr>\n",
              "      <th>8065</th>\n",
              "      <td>2021110100</td>\n",
              "      <td>4113</td>\n",
              "      <td>0.0</td>\n",
              "      <td>0.0</td>\n",
              "      <td>0.0</td>\n",
              "      <td>0.0</td>\n",
              "      <td>0.0</td>\n",
              "      <td>0.03</td>\n",
              "      <td>0.04</td>\n",
              "      <td>0.01</td>\n",
              "      <td>...</td>\n",
              "      <td>92.29</td>\n",
              "      <td>-0.81</td>\n",
              "      <td>-0.15</td>\n",
              "      <td>4.0</td>\n",
              "      <td>C</td>\n",
              "      <td>15</td>\n",
              "      <td>29</td>\n",
              "      <td>2</td>\n",
              "      <td>Cover-2</td>\n",
              "      <td>0</td>\n",
              "    </tr>\n",
              "    <tr>\n",
              "      <th>8066</th>\n",
              "      <td>2021110100</td>\n",
              "      <td>4310</td>\n",
              "      <td>0.0</td>\n",
              "      <td>0.0</td>\n",
              "      <td>0.0</td>\n",
              "      <td>0.0</td>\n",
              "      <td>0.0</td>\n",
              "      <td>0.03</td>\n",
              "      <td>0.05</td>\n",
              "      <td>0.00</td>\n",
              "      <td>...</td>\n",
              "      <td>76.46</td>\n",
              "      <td>-1.36</td>\n",
              "      <td>-0.44</td>\n",
              "      <td>4.0</td>\n",
              "      <td>S</td>\n",
              "      <td>8</td>\n",
              "      <td>-8</td>\n",
              "      <td>3</td>\n",
              "      <td>Bracket</td>\n",
              "      <td>0</td>\n",
              "    </tr>\n",
              "    <tr>\n",
              "      <th>8067</th>\n",
              "      <td>2021110100</td>\n",
              "      <td>4363</td>\n",
              "      <td>0.0</td>\n",
              "      <td>0.0</td>\n",
              "      <td>0.0</td>\n",
              "      <td>0.0</td>\n",
              "      <td>0.0</td>\n",
              "      <td>-0.05</td>\n",
              "      <td>-0.01</td>\n",
              "      <td>0.00</td>\n",
              "      <td>...</td>\n",
              "      <td>249.27</td>\n",
              "      <td>1.19</td>\n",
              "      <td>1.31</td>\n",
              "      <td>5.0</td>\n",
              "      <td>C</td>\n",
              "      <td>10</td>\n",
              "      <td>3</td>\n",
              "      <td>1</td>\n",
              "      <td>Cover-2</td>\n",
              "      <td>0</td>\n",
              "    </tr>\n",
              "    <tr>\n",
              "      <th>8068</th>\n",
              "      <td>2021110100</td>\n",
              "      <td>4392</td>\n",
              "      <td>0.0</td>\n",
              "      <td>0.0</td>\n",
              "      <td>0.0</td>\n",
              "      <td>0.0</td>\n",
              "      <td>0.0</td>\n",
              "      <td>-0.06</td>\n",
              "      <td>-0.01</td>\n",
              "      <td>0.00</td>\n",
              "      <td>...</td>\n",
              "      <td>253.31</td>\n",
              "      <td>1.00</td>\n",
              "      <td>0.90</td>\n",
              "      <td>6.0</td>\n",
              "      <td>S</td>\n",
              "      <td>7</td>\n",
              "      <td>-8</td>\n",
              "      <td>2</td>\n",
              "      <td>Cover-2</td>\n",
              "      <td>0</td>\n",
              "    </tr>\n",
              "    <tr>\n",
              "      <th>8070</th>\n",
              "      <td>2021110100</td>\n",
              "      <td>4433</td>\n",
              "      <td>0.0</td>\n",
              "      <td>0.0</td>\n",
              "      <td>0.0</td>\n",
              "      <td>0.0</td>\n",
              "      <td>0.0</td>\n",
              "      <td>-0.06</td>\n",
              "      <td>-0.02</td>\n",
              "      <td>0.00</td>\n",
              "      <td>...</td>\n",
              "      <td>253.76</td>\n",
              "      <td>0.82</td>\n",
              "      <td>1.74</td>\n",
              "      <td>6.0</td>\n",
              "      <td>S</td>\n",
              "      <td>15</td>\n",
              "      <td>-5</td>\n",
              "      <td>4</td>\n",
              "      <td>Quarters</td>\n",
              "      <td>0</td>\n",
              "    </tr>\n",
              "  </tbody>\n",
              "</table>\n",
              "<p>5318 rows × 396 columns</p>\n",
              "</div>\n",
              "      <button class=\"colab-df-convert\" onclick=\"convertToInteractive('df-af6bc9c3-ffd5-4bd3-a0fe-b570d38dff7c')\"\n",
              "              title=\"Convert this dataframe to an interactive table.\"\n",
              "              style=\"display:none;\">\n",
              "        \n",
              "  <svg xmlns=\"http://www.w3.org/2000/svg\" height=\"24px\"viewBox=\"0 0 24 24\"\n",
              "       width=\"24px\">\n",
              "    <path d=\"M0 0h24v24H0V0z\" fill=\"none\"/>\n",
              "    <path d=\"M18.56 5.44l.94 2.06.94-2.06 2.06-.94-2.06-.94-.94-2.06-.94 2.06-2.06.94zm-11 1L8.5 8.5l.94-2.06 2.06-.94-2.06-.94L8.5 2.5l-.94 2.06-2.06.94zm10 10l.94 2.06.94-2.06 2.06-.94-2.06-.94-.94-2.06-.94 2.06-2.06.94z\"/><path d=\"M17.41 7.96l-1.37-1.37c-.4-.4-.92-.59-1.43-.59-.52 0-1.04.2-1.43.59L10.3 9.45l-7.72 7.72c-.78.78-.78 2.05 0 2.83L4 21.41c.39.39.9.59 1.41.59.51 0 1.02-.2 1.41-.59l7.78-7.78 2.81-2.81c.8-.78.8-2.07 0-2.86zM5.41 20L4 18.59l7.72-7.72 1.47 1.35L5.41 20z\"/>\n",
              "  </svg>\n",
              "      </button>\n",
              "      \n",
              "  <style>\n",
              "    .colab-df-container {\n",
              "      display:flex;\n",
              "      flex-wrap:wrap;\n",
              "      gap: 12px;\n",
              "    }\n",
              "\n",
              "    .colab-df-convert {\n",
              "      background-color: #E8F0FE;\n",
              "      border: none;\n",
              "      border-radius: 50%;\n",
              "      cursor: pointer;\n",
              "      display: none;\n",
              "      fill: #1967D2;\n",
              "      height: 32px;\n",
              "      padding: 0 0 0 0;\n",
              "      width: 32px;\n",
              "    }\n",
              "\n",
              "    .colab-df-convert:hover {\n",
              "      background-color: #E2EBFA;\n",
              "      box-shadow: 0px 1px 2px rgba(60, 64, 67, 0.3), 0px 1px 3px 1px rgba(60, 64, 67, 0.15);\n",
              "      fill: #174EA6;\n",
              "    }\n",
              "\n",
              "    [theme=dark] .colab-df-convert {\n",
              "      background-color: #3B4455;\n",
              "      fill: #D2E3FC;\n",
              "    }\n",
              "\n",
              "    [theme=dark] .colab-df-convert:hover {\n",
              "      background-color: #434B5C;\n",
              "      box-shadow: 0px 1px 3px 1px rgba(0, 0, 0, 0.15);\n",
              "      filter: drop-shadow(0px 1px 2px rgba(0, 0, 0, 0.3));\n",
              "      fill: #FFFFFF;\n",
              "    }\n",
              "  </style>\n",
              "\n",
              "      <script>\n",
              "        const buttonEl =\n",
              "          document.querySelector('#df-af6bc9c3-ffd5-4bd3-a0fe-b570d38dff7c button.colab-df-convert');\n",
              "        buttonEl.style.display =\n",
              "          google.colab.kernel.accessAllowed ? 'block' : 'none';\n",
              "\n",
              "        async function convertToInteractive(key) {\n",
              "          const element = document.querySelector('#df-af6bc9c3-ffd5-4bd3-a0fe-b570d38dff7c');\n",
              "          const dataTable =\n",
              "            await google.colab.kernel.invokeFunction('convertToInteractive',\n",
              "                                                     [key], {});\n",
              "          if (!dataTable) return;\n",
              "\n",
              "          const docLinkHtml = 'Like what you see? Visit the ' +\n",
              "            '<a target=\"_blank\" href=https://colab.research.google.com/notebooks/data_table.ipynb>data table notebook</a>'\n",
              "            + ' to learn more about interactive tables.';\n",
              "          element.innerHTML = '';\n",
              "          dataTable['output_type'] = 'display_data';\n",
              "          await google.colab.output.renderOutput(dataTable, element);\n",
              "          const docLink = document.createElement('div');\n",
              "          docLink.innerHTML = docLinkHtml;\n",
              "          element.appendChild(docLink);\n",
              "        }\n",
              "      </script>\n",
              "    </div>\n",
              "  </div>\n",
              "  "
            ]
          },
          "metadata": {},
          "execution_count": 91
        }
      ]
    },
    {
      "cell_type": "code",
      "source": [
        "data_norm = data_norm_plays #look at merged file\n",
        "rowTemp = 0\n",
        "data_norm['Down1'] = 0\n",
        "data_norm['Down2'] = 0\n",
        "data_norm['Down3'] = 0\n",
        "data_norm['Down4'] = 0\n",
        "tempDown = 0\n",
        "for pt in range(len(data_norm)): #manual one-hot encoding\n",
        "  rowToChange = data_norm.iloc[rowTemp, :]\n",
        "  tempDown = rowToChange.loc['down']\n",
        "  if tempDown ==  1:\n",
        "    data_norm.iloc[rowTemp, data_norm.columns.get_loc('Down1')] = 1\n",
        "  elif tempDown == 2:\n",
        "    data_norm.iloc[rowTemp, data_norm.columns.get_loc('Down2')] = 1\n",
        "  elif tempDown == 3:\n",
        "    data_norm.iloc[rowTemp, data_norm.columns.get_loc('Down3')] = 1\n",
        "  elif tempDown == 4:\n",
        "    data_norm.iloc[rowTemp, data_norm.columns.get_loc('Down4')] = 1\n",
        "    #Edge Case, Down = 0\n",
        "  rowTemp += 1\n",
        "\n",
        "counter = 0\n",
        "data_norm['Cover-1'] = 0\n",
        "data_norm['Cover-2'] = 0\n",
        "data_norm['Cover-3'] = 0\n",
        "data_norm['Cover-6'] = 0\n",
        "data_norm['Quarters'] = 0\n",
        "data_norm['Cover-0'] = 0\n",
        "data_norm['2-Man'] = 0\n",
        "for row in range(len(data_norm)):\n",
        "  zz = data_norm['pff_passCoverage']\n",
        "  x = zz.iloc[counter]\n",
        "  if x == 'Cover-1':\n",
        "    data_norm.iloc[counter, data_norm.columns.get_loc('Cover-1')] = 1\n",
        "  elif x == 'Cover-2':\n",
        "    data_norm.iloc[counter, data_norm.columns.get_loc('Cover-2')] = 1\n",
        "  elif x == 'Cover-3':\n",
        "    data_norm.iloc[counter, data_norm.columns.get_loc('Cover-3')] = 1\n",
        "  elif x == 'Cover-6':\n",
        "    data_norm.iloc[counter, data_norm.columns.get_loc('Cover-6')] = 1\n",
        "  elif x == 'Cover-0':\n",
        "    data_norm.iloc[counter, data_norm.columns.get_loc('Cover-0')] = 1\n",
        "  elif x == '2-Man':\n",
        "    data_norm.iloc[counter, data_norm.columns.get_loc('2-Man')] = 1\n",
        "  #EXCLUDING RED ZONE\n",
        "  counter += 1"
      ],
      "metadata": {
        "id": "qjtB3PxSqtxi"
      },
      "execution_count": 92,
      "outputs": []
    },
    {
      "cell_type": "code",
      "source": [],
      "metadata": {
        "id": "BAmQ7hknRcFl"
      },
      "execution_count": 92,
      "outputs": []
    },
    {
      "cell_type": "markdown",
      "metadata": {
        "id": "Tz8adDIbAbGq"
      },
      "source": [
        "### Understanding the Data"
      ]
    },
    {
      "cell_type": "markdown",
      "metadata": {
        "id": "aNO6oNgg-vrq"
      },
      "source": [
        "# Models"
      ]
    },
    {
      "cell_type": "code",
      "execution_count": 94,
      "metadata": {
        "id": "Go4pUnjN8SxU",
        "colab": {
          "base_uri": "https://localhost:8080/",
          "height": 266
        },
        "outputId": "de52e7ba-07fb-4693-b1b4-43f9f6909052"
      },
      "outputs": [
        {
          "output_type": "display_data",
          "data": {
            "text/plain": [
              "<Figure size 432x288 with 1 Axes>"
            ],
            "image/png": "[encoded data removed]"
          },
          "metadata": {
            "needs_background": "light"
          }
        }
      ],
      "source": [
        "data = data_norm\n",
        "X = data.loc[:, 'x_0_C':'y_1_RT']\n",
        "names = X.columns\n",
        "scalar = preprocessing.StandardScaler()\n",
        "X = scalar.fit_transform(X)\n",
        "\n",
        "plt.hist(X.mean(axis = 1))\n",
        "plt.hist(X.std(axis = 1))\n",
        "\n",
        "y = data['playResult']\n",
        "\n",
        "X_train, X_test, y_train, y_test = train_test_split(X, y, test_size=0.2, random_state=42)"
      ]
    },
    {
      "cell_type": "code",
      "execution_count": 104,
      "metadata": {
        "id": "cbzbfNPO-yRE"
      },
      "outputs": [],
      "source": [
        "# try simple linear regression first\n",
        "\n",
        "from sklearn.linear_model import LinearRegression\n",
        "reg = LinearRegression().fit(X_train, y_train)"
      ]
    },
    {
      "cell_type": "code",
      "source": [
        "import sklearn.metrics as skm\n",
        "y2 = reg.predict(X)\n",
        "skm.r2_score(y, y2)"
      ],
      "metadata": {
        "colab": {
          "base_uri": "https://localhost:8080/"
        },
        "id": "Q5Yu5Y9slYfH",
        "outputId": "ca68039d-5412-414d-ebf6-ab53f7b5e424"
      },
      "execution_count": 105,
      "outputs": [
        {
          "output_type": "execute_result",
          "data": {
            "text/plain": [
              "0.01807890749876162"
            ]
          },
          "metadata": {},
          "execution_count": 105
        }
      ]
    },
    {
      "cell_type": "code",
      "source": [
        "LinearRegression().fit(X, y)"
      ],
      "metadata": {
        "id": "GzzJ_VN4zMWA",
        "colab": {
          "base_uri": "https://localhost:8080/"
        },
        "outputId": "80213a17-e4d1-45dd-f5ae-98574e5187d6"
      },
      "execution_count": 97,
      "outputs": [
        {
          "output_type": "execute_result",
          "data": {
            "text/plain": [
              "LinearRegression()"
            ]
          },
          "metadata": {},
          "execution_count": 97
        }
      ]
    },
    {
      "cell_type": "code",
      "source": [
        "plt.plot(X, y, \"o\")"
      ],
      "metadata": {
        "id": "tATSmHP9zdp9",
        "colab": {
          "base_uri": "https://localhost:8080/",
          "height": 1000
        },
        "outputId": "55b5f58a-d5b0-4bc0-df74-861215238b65"
      },
      "execution_count": 98,
      "outputs": [
        {
          "output_type": "execute_result",
          "data": {
            "text/plain": [
              "[<matplotlib.lines.Line2D at 0x7fc4d4626550>,\n",
              " <matplotlib.lines.Line2D at 0x7fc4d46264c0>,\n",
              " <matplotlib.lines.Line2D at 0x7fc4d46265e0>,\n",
              " <matplotlib.lines.Line2D at 0x7fc4d4626670>,\n",
              " <matplotlib.lines.Line2D at 0x7fc4d4626700>,\n",
              " <matplotlib.lines.Line2D at 0x7fc4d4626820>,\n",
              " <matplotlib.lines.Line2D at 0x7fc4d46268e0>,\n",
              " <matplotlib.lines.Line2D at 0x7fc4d46269a0>,\n",
              " <matplotlib.lines.Line2D at 0x7fc4d4626a60>,\n",
              " <matplotlib.lines.Line2D at 0x7fc4d4626b20>,\n",
              " <matplotlib.lines.Line2D at 0x7fc4d4626be0>,\n",
              " <matplotlib.lines.Line2D at 0x7fc4d4626520>,\n",
              " <matplotlib.lines.Line2D at 0x7fc4d4626d00>,\n",
              " <matplotlib.lines.Line2D at 0x7fc4d4626df0>,\n",
              " <matplotlib.lines.Line2D at 0x7fc4d4626eb0>,\n",
              " <matplotlib.lines.Line2D at 0x7fc4d4626f70>,\n",
              " <matplotlib.lines.Line2D at 0x7fc4d4626fd0>,\n",
              " <matplotlib.lines.Line2D at 0x7fc4d463a130>,\n",
              " <matplotlib.lines.Line2D at 0x7fc4d463a1f0>,\n",
              " <matplotlib.lines.Line2D at 0x7fc4d463a2b0>,\n",
              " <matplotlib.lines.Line2D at 0x7fc4d463a370>,\n",
              " <matplotlib.lines.Line2D at 0x7fc4d463a430>,\n",
              " <matplotlib.lines.Line2D at 0x7fc4d463a4f0>,\n",
              " <matplotlib.lines.Line2D at 0x7fc4d463a5b0>,\n",
              " <matplotlib.lines.Line2D at 0x7fc4d463a670>,\n",
              " <matplotlib.lines.Line2D at 0x7fc4d463a730>,\n",
              " <matplotlib.lines.Line2D at 0x7fc4d463a7f0>,\n",
              " <matplotlib.lines.Line2D at 0x7fc4d463a8b0>,\n",
              " <matplotlib.lines.Line2D at 0x7fc4d463a970>,\n",
              " <matplotlib.lines.Line2D at 0x7fc4d463aa30>,\n",
              " <matplotlib.lines.Line2D at 0x7fc4d463aaf0>,\n",
              " <matplotlib.lines.Line2D at 0x7fc4d463abb0>,\n",
              " <matplotlib.lines.Line2D at 0x7fc4d463ac70>,\n",
              " <matplotlib.lines.Line2D at 0x7fc4d463ad30>,\n",
              " <matplotlib.lines.Line2D at 0x7fc4d463adf0>,\n",
              " <matplotlib.lines.Line2D at 0x7fc4d463aeb0>,\n",
              " <matplotlib.lines.Line2D at 0x7fc4d463af70>,\n",
              " <matplotlib.lines.Line2D at 0x7fc4d463afd0>,\n",
              " <matplotlib.lines.Line2D at 0x7fc4d3dfc130>,\n",
              " <matplotlib.lines.Line2D at 0x7fc4d3dfc1f0>,\n",
              " <matplotlib.lines.Line2D at 0x7fc4d3dfc2b0>,\n",
              " <matplotlib.lines.Line2D at 0x7fc4d3dfc370>,\n",
              " <matplotlib.lines.Line2D at 0x7fc4d3dfc430>,\n",
              " <matplotlib.lines.Line2D at 0x7fc4d3dfc4f0>,\n",
              " <matplotlib.lines.Line2D at 0x7fc4d3dfc5b0>,\n",
              " <matplotlib.lines.Line2D at 0x7fc4d3dfc670>,\n",
              " <matplotlib.lines.Line2D at 0x7fc4d3dfc730>,\n",
              " <matplotlib.lines.Line2D at 0x7fc4d3dfc7f0>,\n",
              " <matplotlib.lines.Line2D at 0x7fc4d3dfc8b0>,\n",
              " <matplotlib.lines.Line2D at 0x7fc4d3dfc970>,\n",
              " <matplotlib.lines.Line2D at 0x7fc4d3dfca30>,\n",
              " <matplotlib.lines.Line2D at 0x7fc4d3dfcaf0>,\n",
              " <matplotlib.lines.Line2D at 0x7fc4d3dfcbb0>,\n",
              " <matplotlib.lines.Line2D at 0x7fc4d3dfcc70>,\n",
              " <matplotlib.lines.Line2D at 0x7fc4d3dfcd30>,\n",
              " <matplotlib.lines.Line2D at 0x7fc4d3dfcdf0>,\n",
              " <matplotlib.lines.Line2D at 0x7fc4d3dfceb0>,\n",
              " <matplotlib.lines.Line2D at 0x7fc4d3dfcf70>,\n",
              " <matplotlib.lines.Line2D at 0x7fc4d3dfcfd0>,\n",
              " <matplotlib.lines.Line2D at 0x7fc4d3dd4130>,\n",
              " <matplotlib.lines.Line2D at 0x7fc4d3dd41f0>,\n",
              " <matplotlib.lines.Line2D at 0x7fc4d3dd42b0>,\n",
              " <matplotlib.lines.Line2D at 0x7fc4d3dd4370>,\n",
              " <matplotlib.lines.Line2D at 0x7fc4d3dd4430>,\n",
              " <matplotlib.lines.Line2D at 0x7fc4d3dd44f0>,\n",
              " <matplotlib.lines.Line2D at 0x7fc4d3dd45b0>,\n",
              " <matplotlib.lines.Line2D at 0x7fc4d3dd4670>,\n",
              " <matplotlib.lines.Line2D at 0x7fc4d3dd4730>,\n",
              " <matplotlib.lines.Line2D at 0x7fc4d3dd47f0>,\n",
              " <matplotlib.lines.Line2D at 0x7fc4d3dd4880>,\n",
              " <matplotlib.lines.Line2D at 0x7fc4d3dd49a0>,\n",
              " <matplotlib.lines.Line2D at 0x7fc4d3dd4a60>,\n",
              " <matplotlib.lines.Line2D at 0x7fc4d3dd4b20>,\n",
              " <matplotlib.lines.Line2D at 0x7fc4d3dd4be0>,\n",
              " <matplotlib.lines.Line2D at 0x7fc4d3dd4ca0>,\n",
              " <matplotlib.lines.Line2D at 0x7fc4d3dd4d60>,\n",
              " <matplotlib.lines.Line2D at 0x7fc4d3dd4e20>,\n",
              " <matplotlib.lines.Line2D at 0x7fc4d3dd4ee0>,\n",
              " <matplotlib.lines.Line2D at 0x7fc4d3dd4fa0>,\n",
              " <matplotlib.lines.Line2D at 0x7fc4d3dd90a0>,\n",
              " <matplotlib.lines.Line2D at 0x7fc4d3dd9160>,\n",
              " <matplotlib.lines.Line2D at 0x7fc4d3dd9220>,\n",
              " <matplotlib.lines.Line2D at 0x7fc4d3dd92e0>,\n",
              " <matplotlib.lines.Line2D at 0x7fc4d3dd93a0>,\n",
              " <matplotlib.lines.Line2D at 0x7fc4d3dd9460>,\n",
              " <matplotlib.lines.Line2D at 0x7fc4d3dd9520>,\n",
              " <matplotlib.lines.Line2D at 0x7fc4d3dd95e0>,\n",
              " <matplotlib.lines.Line2D at 0x7fc4d3dd96a0>,\n",
              " <matplotlib.lines.Line2D at 0x7fc4d3dd9760>,\n",
              " <matplotlib.lines.Line2D at 0x7fc4d3dd9820>,\n",
              " <matplotlib.lines.Line2D at 0x7fc4d3dd98e0>,\n",
              " <matplotlib.lines.Line2D at 0x7fc4d3dd99a0>,\n",
              " <matplotlib.lines.Line2D at 0x7fc4d3dd9a60>,\n",
              " <matplotlib.lines.Line2D at 0x7fc4d3dd9b20>,\n",
              " <matplotlib.lines.Line2D at 0x7fc4d3dd9be0>,\n",
              " <matplotlib.lines.Line2D at 0x7fc4d3dd9ca0>,\n",
              " <matplotlib.lines.Line2D at 0x7fc4d3dd9d60>,\n",
              " <matplotlib.lines.Line2D at 0x7fc4d3dd9e20>,\n",
              " <matplotlib.lines.Line2D at 0x7fc4d3dd9ee0>,\n",
              " <matplotlib.lines.Line2D at 0x7fc4d3dd9fa0>,\n",
              " <matplotlib.lines.Line2D at 0x7fc4d3ddf0a0>,\n",
              " <matplotlib.lines.Line2D at 0x7fc4d3ddf160>,\n",
              " <matplotlib.lines.Line2D at 0x7fc4d3ddf220>,\n",
              " <matplotlib.lines.Line2D at 0x7fc4d3ddf2e0>,\n",
              " <matplotlib.lines.Line2D at 0x7fc4d3ddf3a0>,\n",
              " <matplotlib.lines.Line2D at 0x7fc4d3ddf460>,\n",
              " <matplotlib.lines.Line2D at 0x7fc4d3ddf520>,\n",
              " <matplotlib.lines.Line2D at 0x7fc4d3ddf5e0>,\n",
              " <matplotlib.lines.Line2D at 0x7fc4d3ddf6a0>,\n",
              " <matplotlib.lines.Line2D at 0x7fc4d3ddf760>]"
            ]
          },
          "metadata": {},
          "execution_count": 98
        },
        {
          "output_type": "display_data",
          "data": {
            "text/plain": [
              "<Figure size 432x288 with 1 Axes>"
            ],
            "image/png": "[encoded data removed]"
          },
          "metadata": {
            "needs_background": "light"
          }
        }
      ]
    },
    {
      "cell_type": "markdown",
      "metadata": {
        "id": "NbE8kS4UAQyx"
      },
      "source": [
        "That doesn't look too good.. Let's try something more advanced"
      ]
    },
    {
      "cell_type": "code",
      "execution_count": 99,
      "metadata": {
        "id": "3FLovmq-_7oD"
      },
      "outputs": [],
      "source": [
        "# how about a decision tree?\n",
        "from sklearn import tree\n",
        "score = []\n",
        "\n",
        "for i in range(5, 20, 5):\n",
        "    clf = tree.DecisionTreeRegressor(min_samples_leaf=5, max_depth=i, random_state=42)\n",
        "    clf = clf.fit(X_train, y_train)\n",
        "    clf_score = clf.score(X_test, y_test)\n",
        "    score.append(clf_score)"
      ]
    },
    {
      "cell_type": "code",
      "execution_count": 100,
      "metadata": {
        "id": "Bi-9NXMcDm8j",
        "colab": {
          "base_uri": "https://localhost:8080/",
          "height": 282
        },
        "outputId": "a0e63a80-b618-49d6-cfa0-0e4f3feb2e4f"
      },
      "outputs": [
        {
          "output_type": "execute_result",
          "data": {
            "text/plain": [
              "[<matplotlib.lines.Line2D at 0x7fc4d4180910>]"
            ]
          },
          "metadata": {},
          "execution_count": 100
        },
        {
          "output_type": "display_data",
          "data": {
            "text/plain": [
              "<Figure size 432x288 with 1 Axes>"
            ],
            "image/png": "[encoded data removed]"
          },
          "metadata": {
            "needs_background": "light"
          }
        }
      ],
      "source": [
        "plt.plot(range(5, 20, 5), score)"
      ]
    },
    {
      "cell_type": "markdown",
      "metadata": {
        "id": "whcPxiO-IiQM"
      },
      "source": [
        "Decision tree also does poorly, furthermore deeper trees overfit. Oh-oh.."
      ]
    },
    {
      "cell_type": "code",
      "execution_count": 101,
      "metadata": {
        "id": "iAn-islbDrcE",
        "colab": {
          "base_uri": "https://localhost:8080/",
          "height": 301
        },
        "outputId": "5dbcff96-1dfd-473b-8606-c14fe72388f7"
      },
      "outputs": [
        {
          "output_type": "execute_result",
          "data": {
            "text/plain": [
              "Text(0, 0.5, 'Principal Component 2')"
            ]
          },
          "metadata": {},
          "execution_count": 101
        },
        {
          "output_type": "display_data",
          "data": {
            "text/plain": [
              "<Figure size 432x288 with 1 Axes>"
            ],
            "image/png": "[encoded data removed]"
          },
          "metadata": {
            "needs_background": "light"
          }
        }
      ],
      "source": [
        "# Do some PCA\n",
        "from sklearn.decomposition import PCA\n",
        "pca = PCA(n_components=2)\n",
        "principalComponents = pca.fit_transform(X)\n",
        "\n",
        "principalDf = pd.DataFrame(data = principalComponents\n",
        "             , columns = ['pc1', 'pc2'])\n",
        "finalDf = pd.concat([principalDf, y], axis = 1)\n",
        "\n",
        "plt.scatter(finalDf['pc1'], finalDf['pc2'])\n",
        "plt.xlabel('Principal Component 1', fontsize = 15)\n",
        "plt.ylabel('Principal Component 2', fontsize = 15)\n"
      ]
    },
    {
      "cell_type": "code",
      "execution_count": 102,
      "metadata": {
        "id": "lga93768MZ87",
        "colab": {
          "base_uri": "https://localhost:8080/",
          "height": 37
        },
        "outputId": "56560cc6-a4d8-444c-a7a3-9a83a9318338"
      },
      "outputs": [
        {
          "output_type": "execute_result",
          "data": {
            "text/plain": [
              "'x_0.9_RT'"
            ],
            "application/vnd.google.colaboratory.intrinsic+json": {
              "type": "string"
            }
          },
          "metadata": {},
          "execution_count": 102
        }
      ],
      "source": [
        "i = pca.components_[0,:].argmax()\n",
        "names[i]"
      ]
    },
    {
      "cell_type": "code",
      "execution_count": 108,
      "metadata": {
        "id": "dzwtdgVmQ0AF",
        "colab": {
          "base_uri": "https://localhost:8080/"
        },
        "outputId": "8b2840d7-efd6-44dc-edf5-22bbdc472286"
      },
      "outputs": [
        {
          "output_type": "execute_result",
          "data": {
            "text/plain": [
              "-0.052241898817315446"
            ]
          },
          "metadata": {},
          "execution_count": 108
        }
      ],
      "source": [
        "## Random forest\n",
        "\n",
        "from sklearn.ensemble import RandomForestRegressor\n",
        "rf = RandomForestRegressor(n_estimators = 100, random_state = 55)\n",
        "# Train the model on training data\n",
        "rf.fit(X_train, y_train)\n",
        "rf.score(X_test, y_test)"
      ]
    },
    {
      "cell_type": "code",
      "source": [
        "## Random forest\n",
        "\n",
        "from sklearn.ensemble import RandomForestRegressor\n",
        "rf = RandomForestRegressor(n_estimators = 1000, random_state = 55)\n",
        "# Train the model on training data\n",
        "rf.fit(X_train, y_train)\n",
        "rf.score(X_test, y_test)"
      ],
      "metadata": {
        "colab": {
          "base_uri": "https://localhost:8080/"
        },
        "id": "exgToAQcF8lt",
        "outputId": "1fcd5e6f-74f1-40a9-dfe2-9dea64f4565a"
      },
      "execution_count": 119,
      "outputs": [
        {
          "output_type": "execute_result",
          "data": {
            "text/plain": [
              "-0.023157016737683334"
            ]
          },
          "metadata": {},
          "execution_count": 119
        }
      ]
    },
    {
      "cell_type": "code",
      "source": [
        "data = [0.01807890749876162, -0.052241898817315446, -0.023157016737683334]\n",
        "col2=['Linear Regression', 'n = 100 Random Forest', 'n = 1000 Random Forest']\n",
        "df = pd.DataFrame(data, col2)"
      ],
      "metadata": {
        "id": "asFTmA9p5oJm"
      },
      "execution_count": 115,
      "outputs": []
    },
    {
      "cell_type": "code",
      "source": [
        "df.columns = ['R^2']"
      ],
      "metadata": {
        "id": "Iza6kVApDRCC"
      },
      "execution_count": 117,
      "outputs": []
    },
    {
      "cell_type": "code",
      "source": [
        "df"
      ],
      "metadata": {
        "colab": {
          "base_uri": "https://localhost:8080/",
          "height": 142
        },
        "id": "08th-l92DqCP",
        "outputId": "67ee89d3-4eec-4421-ad6f-0d8622d30a41"
      },
      "execution_count": 118,
      "outputs": [
        {
          "output_type": "execute_result",
          "data": {
            "text/plain": [
              "                             R^2\n",
              "Linear Regression       0.018079\n",
              "n = 100 Random Forest  -0.052242\n",
              "n = 1000 Random Forest -0.023157"
            ],
            "text/html": [
              "\n",
              "  <div id=\"df-9b777ed8-35ce-44ad-b187-b31f2d0fe365\">\n",
              "    <div class=\"colab-df-container\">\n",
              "      <div>\n",
              "<style scoped>\n",
              "    .dataframe tbody tr th:only-of-type {\n",
              "        vertical-align: middle;\n",
              "    }\n",
              "\n",
              "    .dataframe tbody tr th {\n",
              "        vertical-align: top;\n",
              "    }\n",
              "\n",
              "    .dataframe thead th {\n",
              "        text-align: right;\n",
              "    }\n",
              "</style>\n",
              "<table border=\"1\" class=\"dataframe\">\n",
              "  <thead>\n",
              "    <tr style=\"text-align: right;\">\n",
              "      <th></th>\n",
              "      <th>R^2</th>\n",
              "    </tr>\n",
              "  </thead>\n",
              "  <tbody>\n",
              "    <tr>\n",
              "      <th>Linear Regression</th>\n",
              "      <td>0.018079</td>\n",
              "    </tr>\n",
              "    <tr>\n",
              "      <th>n = 100 Random Forest</th>\n",
              "      <td>-0.052242</td>\n",
              "    </tr>\n",
              "    <tr>\n",
              "      <th>n = 1000 Random Forest</th>\n",
              "      <td>-0.023157</td>\n",
              "    </tr>\n",
              "  </tbody>\n",
              "</table>\n",
              "</div>\n",
              "      <button class=\"colab-df-convert\" onclick=\"convertToInteractive('df-9b777ed8-35ce-44ad-b187-b31f2d0fe365')\"\n",
              "              title=\"Convert this dataframe to an interactive table.\"\n",
              "              style=\"display:none;\">\n",
              "        \n",
              "  <svg xmlns=\"http://www.w3.org/2000/svg\" height=\"24px\"viewBox=\"0 0 24 24\"\n",
              "       width=\"24px\">\n",
              "    <path d=\"M0 0h24v24H0V0z\" fill=\"none\"/>\n",
              "    <path d=\"M18.56 5.44l.94 2.06.94-2.06 2.06-.94-2.06-.94-.94-2.06-.94 2.06-2.06.94zm-11 1L8.5 8.5l.94-2.06 2.06-.94-2.06-.94L8.5 2.5l-.94 2.06-2.06.94zm10 10l.94 2.06.94-2.06 2.06-.94-2.06-.94-.94-2.06-.94 2.06-2.06.94z\"/><path d=\"M17.41 7.96l-1.37-1.37c-.4-.4-.92-.59-1.43-.59-.52 0-1.04.2-1.43.59L10.3 9.45l-7.72 7.72c-.78.78-.78 2.05 0 2.83L4 21.41c.39.39.9.59 1.41.59.51 0 1.02-.2 1.41-.59l7.78-7.78 2.81-2.81c.8-.78.8-2.07 0-2.86zM5.41 20L4 18.59l7.72-7.72 1.47 1.35L5.41 20z\"/>\n",
              "  </svg>\n",
              "      </button>\n",
              "      \n",
              "  <style>\n",
              "    .colab-df-container {\n",
              "      display:flex;\n",
              "      flex-wrap:wrap;\n",
              "      gap: 12px;\n",
              "    }\n",
              "\n",
              "    .colab-df-convert {\n",
              "      background-color: #E8F0FE;\n",
              "      border: none;\n",
              "      border-radius: 50%;\n",
              "      cursor: pointer;\n",
              "      display: none;\n",
              "      fill: #1967D2;\n",
              "      height: 32px;\n",
              "      padding: 0 0 0 0;\n",
              "      width: 32px;\n",
              "    }\n",
              "\n",
              "    .colab-df-convert:hover {\n",
              "      background-color: #E2EBFA;\n",
              "      box-shadow: 0px 1px 2px rgba(60, 64, 67, 0.3), 0px 1px 3px 1px rgba(60, 64, 67, 0.15);\n",
              "      fill: #174EA6;\n",
              "    }\n",
              "\n",
              "    [theme=dark] .colab-df-convert {\n",
              "      background-color: #3B4455;\n",
              "      fill: #D2E3FC;\n",
              "    }\n",
              "\n",
              "    [theme=dark] .colab-df-convert:hover {\n",
              "      background-color: #434B5C;\n",
              "      box-shadow: 0px 1px 3px 1px rgba(0, 0, 0, 0.15);\n",
              "      filter: drop-shadow(0px 1px 2px rgba(0, 0, 0, 0.3));\n",
              "      fill: #FFFFFF;\n",
              "    }\n",
              "  </style>\n",
              "\n",
              "      <script>\n",
              "        const buttonEl =\n",
              "          document.querySelector('#df-9b777ed8-35ce-44ad-b187-b31f2d0fe365 button.colab-df-convert');\n",
              "        buttonEl.style.display =\n",
              "          google.colab.kernel.accessAllowed ? 'block' : 'none';\n",
              "\n",
              "        async function convertToInteractive(key) {\n",
              "          const element = document.querySelector('#df-9b777ed8-35ce-44ad-b187-b31f2d0fe365');\n",
              "          const dataTable =\n",
              "            await google.colab.kernel.invokeFunction('convertToInteractive',\n",
              "                                                     [key], {});\n",
              "          if (!dataTable) return;\n",
              "\n",
              "          const docLinkHtml = 'Like what you see? Visit the ' +\n",
              "            '<a target=\"_blank\" href=https://colab.research.google.com/notebooks/data_table.ipynb>data table notebook</a>'\n",
              "            + ' to learn more about interactive tables.';\n",
              "          element.innerHTML = '';\n",
              "          dataTable['output_type'] = 'display_data';\n",
              "          await google.colab.output.renderOutput(dataTable, element);\n",
              "          const docLink = document.createElement('div');\n",
              "          docLink.innerHTML = docLinkHtml;\n",
              "          element.appendChild(docLink);\n",
              "        }\n",
              "      </script>\n",
              "    </div>\n",
              "  </div>\n",
              "  "
            ]
          },
          "metadata": {},
          "execution_count": 118
        }
      ]
    }
  ],
  "metadata": {
    "colab": {
      "provenance": []
    },
    "kernelspec": {
      "display_name": "Python 3.8.9 64-bit",
      "language": "python",
      "name": "python3"
    },
    "language_info": {
      "codemirror_mode": {
        "name": "ipython",
        "version": 3
      },
      "file_extension": ".py",
      "mimetype": "text/x-python",
      "name": "python",
      "nbconvert_exporter": "python",
      "pygments_lexer": "ipython3",
      "version": "3.8.9"
    },
    "vscode": {
      "interpreter": {
        "hash": "31f2aee4e71d21fbe5cf8b01ff0e069b9275f58929596ceb00d14d90e3e16cd6"
      }
    }
  },
  "nbformat": 4,
  "nbformat_minor": 0
}