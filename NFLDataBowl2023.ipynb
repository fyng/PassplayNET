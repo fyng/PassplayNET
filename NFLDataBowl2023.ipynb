{
  "cells": [
    {
      "cell_type": "markdown",
      "metadata": {
        "id": "view-in-github",
        "colab_type": "text"
      },
      "source": [
        "<a href=\"https://colab.research.google.com/github/fyng/PassplayNET/blob/main/NFLDataBowl2023.ipynb\" target=\"_parent\"><img src=\"https://colab.research.google.com/assets/colab-badge.svg\" alt=\"Open In Colab\"/></a>"
      ]
    },
    {
      "cell_type": "markdown",
      "metadata": {
        "id": "ig9_iIbNgvUD"
      },
      "source": [
        "# Import Kaggle Challenge\n",
        "\n",
        "Refer to https://www.kaggle.com/general/74235"
      ]
    },
    {
      "cell_type": "markdown",
      "metadata": {
        "id": "4iy70FU5hIkw"
      },
      "source": [
        "1. Create and upload kaggle.json"
      ]
    },
    {
      "cell_type": "code",
      "execution_count": null,
      "metadata": {
        "id": "_8TBKm-Ngrs4"
      },
      "outputs": [],
      "source": [
        "! pip install -q kaggle\n",
        "! mkdir ~/.kaggle\n",
        "! cp kaggle.json ~/.kaggle/\n",
        "! chmod 600 ~/.kaggle/kaggle.json\n",
        "\n",
        "# # check if connection is working\n",
        "# ! kaggle datasets list"
      ]
    },
    {
      "cell_type": "code",
      "execution_count": null,
      "metadata": {
        "colab": {
          "base_uri": "https://localhost:8080/"
        },
        "id": "Zcli264bg_qp",
        "outputId": "77f995fd-2d1d-440c-85ba-1a3d78aa68f0"
      },
      "outputs": [
        {
          "name": "stdout",
          "output_type": "stream",
          "text": [
            "nfl-big-data-bowl-2023.zip: Skipping, found more recently modified local copy (use --force to force download)\n",
            "Archive:  /content/nfl-big-data-bowl-2023.zip\n",
            "  inflating: games.csv               \n",
            "  inflating: pffScoutingData.csv     \n",
            "  inflating: players.csv             \n",
            "  inflating: plays.csv               \n",
            "  inflating: week1.csv               \n",
            "  inflating: week2.csv               \n",
            "  inflating: week3.csv               \n",
            "  inflating: week4.csv               \n",
            "  inflating: week5.csv               \n",
            "  inflating: week6.csv               \n",
            "  inflating: week7.csv               \n",
            "  inflating: week8.csv               \n"
          ]
        }
      ],
      "source": [
        "! kaggle competitions download -c nfl-big-data-bowl-2023\n",
        "! unzip /content/nfl-big-data-bowl-2023.zip"
      ]
    },
    {
      "cell_type": "markdown",
      "metadata": {
        "id": "R2VJgapns7aU"
      },
      "source": [
        "How train is made?\n",
        "\n",
        "Every row is a unique play in a unique game\n",
        "\n",
        "Every row contains relevant data of every player. \n",
        "* each variable spans 1 second, spaced with every 1/10 of a second (only 2 NAs)\n",
        "* every record is the same length\n",
        "\n",
        "Action_time based on different events (Mason and Tad)\n",
        "\n",
        "Pass yards (Feiyang & Eric)"
      ]
    },
    {
      "cell_type": "markdown",
      "metadata": {
        "id": "_VFcR8u1h2HF"
      },
      "source": [
        "# Explore Data"
      ]
    },
    {
      "cell_type": "code",
      "execution_count": null,
      "metadata": {
        "id": "l3epmUqZh8BQ"
      },
      "outputs": [],
      "source": [
        "import pandas as pd\n",
        "import numpy as np\n",
        "import matplotlib.pyplot as plt\n",
        "from sklearn.model_selection import train_test_split\n",
        "from sklearn import preprocessing"
      ]
    },
    {
      "cell_type": "markdown",
      "metadata": {
        "id": "Iud8dTC42nCj"
      },
      "source": [
        "### Play Data"
      ]
    },
    {
      "cell_type": "markdown",
      "metadata": {
        "id": "qnHzuEei27Qh"
      },
      "source": [
        "Play data\n",
        "* `gameId`: Game identifier, unique (numeric)\n",
        "* `playId`: Play identifier, not unique across games (numeric)\n",
        "* `playDescription`: Description of play (text)\n",
        "* `quarter`: Game quarter (numeric)\n",
        "* `down`: Down (numeric)\n",
        "* `yardsToGo`: Distance needed for a first down (numeric)\n",
        "* `possessionTeam`: Team abbr of team on offense with possession of ball (text)\n",
        "* `defensiveTeam`: Team abbr of team on defense (text)\n",
        "* `yardlineSide`: 3-letter team code corresponding to line-of-scrimmage (text)\n",
        "* `yardlineNumber`: Yard line at line-of-scrimmage (numeric)\n",
        "* `gameClock`: Time on clock of play (MM:SS)\n",
        "* `preSnapHomeScore`: Home score prior to the play (numeric)\n",
        "* `preSnapVisitorScore`: Visiting team score prior to the play (numeric)\n",
        "* `passResult`: Dropback outcome of the play (C: Complete pass, I: Incomplete pass, S: Quarterback sack, IN: Intercepted pass, R: Scramble, text)\n",
        "* `penaltyYards`: yards gained by offense by penalty (numeric)\n",
        "* `prePenaltyPlayResult`: Net yards gained by the offense, before penalty yardage (numeric)\n",
        "* `playResult`: Net yards gained by the offense, including penalty yardage (numeric)\n",
        "* `foulName[i]`: Name of the i-th penalty committed during the play. i ranges between 1 and 3 (text)\n",
        "* `foulNFLId[i]`: nflId of the player who comitted the i-th penalty during the play. i ranges between 1 and 3 (numeric)\n",
        "* `absoluteYardlineNumber`: Distance from end zone for possession team (numeric)\n",
        "* `offenseFormation`: Formation used by possession team (text)\n",
        "* `personnelO`: Personnel used by offensive team (text)\n",
        "* `defendersInTheBox`: Number of defenders in close proximity to line-of-scrimmage (numeric)\n",
        "* `personnelD`: Personnel used by defensive team (text)\n",
        "* `dropbackType`: Dropback categorization of quarterback (text)\n",
        "* `pff_playAction`: indicator for whether offense executes play action fake on the play. Variable provided by PFF (binary)\n",
        "* `pff_passCoverage`: Coverage scheme of defense. Variable provided by PFF (text)\n",
        "* `Bracket`: Recorded in the field and up to the 12 yard line in the red zone – when two offensive players have an in and out bracket by two defenders\n",
        "* `Goal Line`: Calls where a Goal Line defense is used.\n",
        "* `Red Zone`: Calls that are typically specific to the Red Zone and do not occur in the field often\n",
        "* `Prevent`: Special end of half or end of game situations where a Prevent defense is utilized\n",
        "* `Miscellaneous`: Coverage concepts that we feel do not comfortably fit into any of our coverage categories\n",
        "* `pff_passCoverageType`: Whether defense's coverage type was man, zone or other. Variable provided by PFF (text)\n",
        "\n"
      ]
    },
    {
      "cell_type": "code",
      "execution_count": null,
      "metadata": {
        "id": "B9LgBqEp2sPi"
      },
      "outputs": [],
      "source": [
        "pl = pd.read_csv(\"/content/plays.csv\")"
      ]
    },
    {
      "cell_type": "code",
      "execution_count": null,
      "metadata": {
        "colab": {
          "base_uri": "https://localhost:8080/",
          "height": 224
        },
        "id": "OXHwazdt4JeB",
        "outputId": "c98392a2-9776-4fa4-d428-d99bd246a581"
      },
      "outputs": [
        {
          "name": "stdout",
          "output_type": "stream",
          "text": [
            "(8557, 6)\n"
          ]
        },
        {
          "data": {
            "text/html": [
              "\n",
              "  <div id=\"df-8453a838-85d1-4025-8723-54bc3dbc0fd8\">\n",
              "    <div class=\"colab-df-container\">\n",
              "      <div>\n",
              "<style scoped>\n",
              "    .dataframe tbody tr th:only-of-type {\n",
              "        vertical-align: middle;\n",
              "    }\n",
              "\n",
              "    .dataframe tbody tr th {\n",
              "        vertical-align: top;\n",
              "    }\n",
              "\n",
              "    .dataframe thead th {\n",
              "        text-align: right;\n",
              "    }\n",
              "</style>\n",
              "<table border=\"1\" class=\"dataframe\">\n",
              "  <thead>\n",
              "    <tr style=\"text-align: right;\">\n",
              "      <th></th>\n",
              "      <th>gameId</th>\n",
              "      <th>playId</th>\n",
              "      <th>quarter</th>\n",
              "      <th>down</th>\n",
              "      <th>yardsToGo</th>\n",
              "      <th>playResult</th>\n",
              "    </tr>\n",
              "  </thead>\n",
              "  <tbody>\n",
              "    <tr>\n",
              "      <th>0</th>\n",
              "      <td>2021090900</td>\n",
              "      <td>97</td>\n",
              "      <td>1</td>\n",
              "      <td>3</td>\n",
              "      <td>2</td>\n",
              "      <td>0</td>\n",
              "    </tr>\n",
              "    <tr>\n",
              "      <th>1</th>\n",
              "      <td>2021090900</td>\n",
              "      <td>137</td>\n",
              "      <td>1</td>\n",
              "      <td>1</td>\n",
              "      <td>10</td>\n",
              "      <td>28</td>\n",
              "    </tr>\n",
              "    <tr>\n",
              "      <th>2</th>\n",
              "      <td>2021090900</td>\n",
              "      <td>187</td>\n",
              "      <td>1</td>\n",
              "      <td>2</td>\n",
              "      <td>6</td>\n",
              "      <td>5</td>\n",
              "    </tr>\n",
              "    <tr>\n",
              "      <th>3</th>\n",
              "      <td>2021090900</td>\n",
              "      <td>282</td>\n",
              "      <td>1</td>\n",
              "      <td>1</td>\n",
              "      <td>10</td>\n",
              "      <td>0</td>\n",
              "    </tr>\n",
              "    <tr>\n",
              "      <th>4</th>\n",
              "      <td>2021090900</td>\n",
              "      <td>349</td>\n",
              "      <td>1</td>\n",
              "      <td>3</td>\n",
              "      <td>15</td>\n",
              "      <td>0</td>\n",
              "    </tr>\n",
              "  </tbody>\n",
              "</table>\n",
              "</div>\n",
              "      <button class=\"colab-df-convert\" onclick=\"convertToInteractive('df-8453a838-85d1-4025-8723-54bc3dbc0fd8')\"\n",
              "              title=\"Convert this dataframe to an interactive table.\"\n",
              "              style=\"display:none;\">\n",
              "        \n",
              "  <svg xmlns=\"http://www.w3.org/2000/svg\" height=\"24px\"viewBox=\"0 0 24 24\"\n",
              "       width=\"24px\">\n",
              "    <path d=\"M0 0h24v24H0V0z\" fill=\"none\"/>\n",
              "    <path d=\"M18.56 5.44l.94 2.06.94-2.06 2.06-.94-2.06-.94-.94-2.06-.94 2.06-2.06.94zm-11 1L8.5 8.5l.94-2.06 2.06-.94-2.06-.94L8.5 2.5l-.94 2.06-2.06.94zm10 10l.94 2.06.94-2.06 2.06-.94-2.06-.94-.94-2.06-.94 2.06-2.06.94z\"/><path d=\"M17.41 7.96l-1.37-1.37c-.4-.4-.92-.59-1.43-.59-.52 0-1.04.2-1.43.59L10.3 9.45l-7.72 7.72c-.78.78-.78 2.05 0 2.83L4 21.41c.39.39.9.59 1.41.59.51 0 1.02-.2 1.41-.59l7.78-7.78 2.81-2.81c.8-.78.8-2.07 0-2.86zM5.41 20L4 18.59l7.72-7.72 1.47 1.35L5.41 20z\"/>\n",
              "  </svg>\n",
              "      </button>\n",
              "      \n",
              "  <style>\n",
              "    .colab-df-container {\n",
              "      display:flex;\n",
              "      flex-wrap:wrap;\n",
              "      gap: 12px;\n",
              "    }\n",
              "\n",
              "    .colab-df-convert {\n",
              "      background-color: #E8F0FE;\n",
              "      border: none;\n",
              "      border-radius: 50%;\n",
              "      cursor: pointer;\n",
              "      display: none;\n",
              "      fill: #1967D2;\n",
              "      height: 32px;\n",
              "      padding: 0 0 0 0;\n",
              "      width: 32px;\n",
              "    }\n",
              "\n",
              "    .colab-df-convert:hover {\n",
              "      background-color: #E2EBFA;\n",
              "      box-shadow: 0px 1px 2px rgba(60, 64, 67, 0.3), 0px 1px 3px 1px rgba(60, 64, 67, 0.15);\n",
              "      fill: #174EA6;\n",
              "    }\n",
              "\n",
              "    [theme=dark] .colab-df-convert {\n",
              "      background-color: #3B4455;\n",
              "      fill: #D2E3FC;\n",
              "    }\n",
              "\n",
              "    [theme=dark] .colab-df-convert:hover {\n",
              "      background-color: #434B5C;\n",
              "      box-shadow: 0px 1px 3px 1px rgba(0, 0, 0, 0.15);\n",
              "      filter: drop-shadow(0px 1px 2px rgba(0, 0, 0, 0.3));\n",
              "      fill: #FFFFFF;\n",
              "    }\n",
              "  </style>\n",
              "\n",
              "      <script>\n",
              "        const buttonEl =\n",
              "          document.querySelector('#df-8453a838-85d1-4025-8723-54bc3dbc0fd8 button.colab-df-convert');\n",
              "        buttonEl.style.display =\n",
              "          google.colab.kernel.accessAllowed ? 'block' : 'none';\n",
              "\n",
              "        async function convertToInteractive(key) {\n",
              "          const element = document.querySelector('#df-8453a838-85d1-4025-8723-54bc3dbc0fd8');\n",
              "          const dataTable =\n",
              "            await google.colab.kernel.invokeFunction('convertToInteractive',\n",
              "                                                     [key], {});\n",
              "          if (!dataTable) return;\n",
              "\n",
              "          const docLinkHtml = 'Like what you see? Visit the ' +\n",
              "            '<a target=\"_blank\" href=https://colab.research.google.com/notebooks/data_table.ipynb>data table notebook</a>'\n",
              "            + ' to learn more about interactive tables.';\n",
              "          element.innerHTML = '';\n",
              "          dataTable['output_type'] = 'display_data';\n",
              "          await google.colab.output.renderOutput(dataTable, element);\n",
              "          const docLink = document.createElement('div');\n",
              "          docLink.innerHTML = docLinkHtml;\n",
              "          element.appendChild(docLink);\n",
              "        }\n",
              "      </script>\n",
              "    </div>\n",
              "  </div>\n",
              "  "
            ],
            "text/plain": [
              "       gameId  playId  quarter  down  yardsToGo  playResult\n",
              "0  2021090900      97        1     3          2           0\n",
              "1  2021090900     137        1     1         10          28\n",
              "2  2021090900     187        1     2          6           5\n",
              "3  2021090900     282        1     1         10           0\n",
              "4  2021090900     349        1     3         15           0"
            ]
          },
          "execution_count": 95,
          "metadata": {},
          "output_type": "execute_result"
        }
      ],
      "source": [
        "play = pl[['gameId', 'playId', 'quarter', 'down', 'yardsToGo', 'playResult']]\n",
        "\n",
        "print(play.shape)\n",
        "play.head()"
      ]
    },
    {
      "cell_type": "markdown",
      "metadata": {
        "id": "KP8UXMOB9Mm8"
      },
      "source": [
        "### Tracking Data"
      ]
    },
    {
      "cell_type": "markdown",
      "metadata": {
        "id": "f7A4vtRDjAaY"
      },
      "source": [
        "Tracking data\n",
        "Files week[week].csv contains player tracking data from week [week].\n",
        "\n",
        "* `gameId`: Game identifier, unique (numeric)\n",
        "* `playId`: Play identifier, not unique across games (numeric)\n",
        "* `nflId`: Player identification number, unique across players. When value is NA, row corresponds to ball. (numeric)\n",
        "* `frameId`: Frame identifier for each play, starting at 1 (numeric)\n",
        "* `time`: Time stamp of play (time, yyyy-mm-dd, hh:mm:ss)\n",
        "* `jerseyNumber`: Jersey number of player (numeric)\n",
        "* `club`: Team abbrevation of corresponding player (text)\n",
        "* `playDirection`: Direction that the offense is moving (left or right)\n",
        "* `x`: Player position along the long axis of the field, 0 - 120 yards. See Figure 1 below. (numeric)\n",
        "* `y`: Player position along the short axis of the field, 0 - 53.3 yards. See Figure 1 below. (numeric)\n",
        "* `s`: Speed in yards/second (numeric)\n",
        "* `a`: Acceleration in yards/second^2 (numeric)\n",
        "* `dis`: Distance traveled from prior time point, in yards (numeric)\n",
        "* `o`: Player orientation (deg), 0 - 360 degrees (numeric)\n",
        "* `dir`: Angle of player motion (deg), 0 - 360 degrees (numeric)\n",
        "* `event`: Tagged play details, including moment of ball snap, pass release, pass catch, tackle, etc (text)"
      ]
    },
    {
      "cell_type": "code",
      "execution_count": null,
      "metadata": {
        "colab": {
          "base_uri": "https://localhost:8080/",
          "height": 297
        },
        "id": "Q2NwVcaB7E7K",
        "outputId": "adc8a303-b061-42d6-edb9-113a659b953e"
      },
      "outputs": [
        {
          "name": "stdout",
          "output_type": "stream",
          "text": [
            "(8071, 387)\n"
          ]
        },
        {
          "data": {
            "text/html": [
              "\n",
              "  <div id=\"df-c2d2ceb3-1440-4edc-82c6-b6299aae2589\">\n",
              "    <div class=\"colab-df-container\">\n",
              "      <div>\n",
              "<style scoped>\n",
              "    .dataframe tbody tr th:only-of-type {\n",
              "        vertical-align: middle;\n",
              "    }\n",
              "\n",
              "    .dataframe tbody tr th {\n",
              "        vertical-align: top;\n",
              "    }\n",
              "\n",
              "    .dataframe thead th {\n",
              "        text-align: right;\n",
              "    }\n",
              "</style>\n",
              "<table border=\"1\" class=\"dataframe\">\n",
              "  <thead>\n",
              "    <tr style=\"text-align: right;\">\n",
              "      <th></th>\n",
              "      <th>gameId</th>\n",
              "      <th>playId</th>\n",
              "      <th>x_0_C</th>\n",
              "      <th>x_0_LT</th>\n",
              "      <th>x_0_LG</th>\n",
              "      <th>x_0_RG</th>\n",
              "      <th>x_0_RT</th>\n",
              "      <th>x_0.1_C</th>\n",
              "      <th>x_0.1_LT</th>\n",
              "      <th>x_0.1_LG</th>\n",
              "      <th>...</th>\n",
              "      <th>dir_0.9_C</th>\n",
              "      <th>dir_0.9_LT</th>\n",
              "      <th>dir_0.9_LG</th>\n",
              "      <th>dir_0.9_RG</th>\n",
              "      <th>dir_0.9_RT</th>\n",
              "      <th>dir_1_C</th>\n",
              "      <th>dir_1_LT</th>\n",
              "      <th>dir_1_LG</th>\n",
              "      <th>dir_1_RG</th>\n",
              "      <th>dir_1_RT</th>\n",
              "    </tr>\n",
              "  </thead>\n",
              "  <tbody>\n",
              "    <tr>\n",
              "      <th>0</th>\n",
              "      <td>2021090900</td>\n",
              "      <td>97</td>\n",
              "      <td>42.10</td>\n",
              "      <td>41.38</td>\n",
              "      <td>41.93</td>\n",
              "      <td>41.41</td>\n",
              "      <td>41.11</td>\n",
              "      <td>42.03</td>\n",
              "      <td>41.28</td>\n",
              "      <td>41.92</td>\n",
              "      <td>...</td>\n",
              "      <td>285.24</td>\n",
              "      <td>287.77</td>\n",
              "      <td>270.50</td>\n",
              "      <td>257.73</td>\n",
              "      <td>265.30</td>\n",
              "      <td>283.12</td>\n",
              "      <td>284.67</td>\n",
              "      <td>269.06</td>\n",
              "      <td>254.98</td>\n",
              "      <td>271.06</td>\n",
              "    </tr>\n",
              "    <tr>\n",
              "      <th>1</th>\n",
              "      <td>2021090900</td>\n",
              "      <td>137</td>\n",
              "      <td>109.22</td>\n",
              "      <td>109.62</td>\n",
              "      <td>109.38</td>\n",
              "      <td>108.74</td>\n",
              "      <td>109.85</td>\n",
              "      <td>109.23</td>\n",
              "      <td>109.62</td>\n",
              "      <td>109.40</td>\n",
              "      <td>...</td>\n",
              "      <td>108.10</td>\n",
              "      <td>78.57</td>\n",
              "      <td>87.15</td>\n",
              "      <td>75.40</td>\n",
              "      <td>52.29</td>\n",
              "      <td>101.57</td>\n",
              "      <td>86.06</td>\n",
              "      <td>87.84</td>\n",
              "      <td>74.85</td>\n",
              "      <td>59.29</td>\n",
              "    </tr>\n",
              "    <tr>\n",
              "      <th>2</th>\n",
              "      <td>2021090900</td>\n",
              "      <td>187</td>\n",
              "      <td>77.67</td>\n",
              "      <td>78.27</td>\n",
              "      <td>78.04</td>\n",
              "      <td>77.89</td>\n",
              "      <td>78.27</td>\n",
              "      <td>77.74</td>\n",
              "      <td>78.30</td>\n",
              "      <td>78.10</td>\n",
              "      <td>...</td>\n",
              "      <td>66.90</td>\n",
              "      <td>114.62</td>\n",
              "      <td>58.75</td>\n",
              "      <td>65.39</td>\n",
              "      <td>66.44</td>\n",
              "      <td>67.82</td>\n",
              "      <td>108.23</td>\n",
              "      <td>58.58</td>\n",
              "      <td>67.31</td>\n",
              "      <td>71.08</td>\n",
              "    </tr>\n",
              "    <tr>\n",
              "      <th>3</th>\n",
              "      <td>2021090900</td>\n",
              "      <td>282</td>\n",
              "      <td>49.82</td>\n",
              "      <td>50.62</td>\n",
              "      <td>50.41</td>\n",
              "      <td>50.51</td>\n",
              "      <td>50.53</td>\n",
              "      <td>49.89</td>\n",
              "      <td>50.63</td>\n",
              "      <td>50.36</td>\n",
              "      <td>...</td>\n",
              "      <td>129.31</td>\n",
              "      <td>67.66</td>\n",
              "      <td>155.38</td>\n",
              "      <td>178.61</td>\n",
              "      <td>193.86</td>\n",
              "      <td>133.71</td>\n",
              "      <td>65.34</td>\n",
              "      <td>133.87</td>\n",
              "      <td>165.07</td>\n",
              "      <td>189.11</td>\n",
              "    </tr>\n",
              "    <tr>\n",
              "      <th>4</th>\n",
              "      <td>2021090900</td>\n",
              "      <td>349</td>\n",
              "      <td>54.93</td>\n",
              "      <td>55.78</td>\n",
              "      <td>55.73</td>\n",
              "      <td>55.72</td>\n",
              "      <td>55.78</td>\n",
              "      <td>55.01</td>\n",
              "      <td>55.81</td>\n",
              "      <td>55.74</td>\n",
              "      <td>...</td>\n",
              "      <td>92.44</td>\n",
              "      <td>99.67</td>\n",
              "      <td>99.29</td>\n",
              "      <td>68.57</td>\n",
              "      <td>71.53</td>\n",
              "      <td>93.19</td>\n",
              "      <td>99.64</td>\n",
              "      <td>95.55</td>\n",
              "      <td>69.08</td>\n",
              "      <td>71.77</td>\n",
              "    </tr>\n",
              "  </tbody>\n",
              "</table>\n",
              "<p>5 rows × 387 columns</p>\n",
              "</div>\n",
              "      <button class=\"colab-df-convert\" onclick=\"convertToInteractive('df-c2d2ceb3-1440-4edc-82c6-b6299aae2589')\"\n",
              "              title=\"Convert this dataframe to an interactive table.\"\n",
              "              style=\"display:none;\">\n",
              "        \n",
              "  <svg xmlns=\"http://www.w3.org/2000/svg\" height=\"24px\"viewBox=\"0 0 24 24\"\n",
              "       width=\"24px\">\n",
              "    <path d=\"M0 0h24v24H0V0z\" fill=\"none\"/>\n",
              "    <path d=\"M18.56 5.44l.94 2.06.94-2.06 2.06-.94-2.06-.94-.94-2.06-.94 2.06-2.06.94zm-11 1L8.5 8.5l.94-2.06 2.06-.94-2.06-.94L8.5 2.5l-.94 2.06-2.06.94zm10 10l.94 2.06.94-2.06 2.06-.94-2.06-.94-.94-2.06-.94 2.06-2.06.94z\"/><path d=\"M17.41 7.96l-1.37-1.37c-.4-.4-.92-.59-1.43-.59-.52 0-1.04.2-1.43.59L10.3 9.45l-7.72 7.72c-.78.78-.78 2.05 0 2.83L4 21.41c.39.39.9.59 1.41.59.51 0 1.02-.2 1.41-.59l7.78-7.78 2.81-2.81c.8-.78.8-2.07 0-2.86zM5.41 20L4 18.59l7.72-7.72 1.47 1.35L5.41 20z\"/>\n",
              "  </svg>\n",
              "      </button>\n",
              "      \n",
              "  <style>\n",
              "    .colab-df-container {\n",
              "      display:flex;\n",
              "      flex-wrap:wrap;\n",
              "      gap: 12px;\n",
              "    }\n",
              "\n",
              "    .colab-df-convert {\n",
              "      background-color: #E8F0FE;\n",
              "      border: none;\n",
              "      border-radius: 50%;\n",
              "      cursor: pointer;\n",
              "      display: none;\n",
              "      fill: #1967D2;\n",
              "      height: 32px;\n",
              "      padding: 0 0 0 0;\n",
              "      width: 32px;\n",
              "    }\n",
              "\n",
              "    .colab-df-convert:hover {\n",
              "      background-color: #E2EBFA;\n",
              "      box-shadow: 0px 1px 2px rgba(60, 64, 67, 0.3), 0px 1px 3px 1px rgba(60, 64, 67, 0.15);\n",
              "      fill: #174EA6;\n",
              "    }\n",
              "\n",
              "    [theme=dark] .colab-df-convert {\n",
              "      background-color: #3B4455;\n",
              "      fill: #D2E3FC;\n",
              "    }\n",
              "\n",
              "    [theme=dark] .colab-df-convert:hover {\n",
              "      background-color: #434B5C;\n",
              "      box-shadow: 0px 1px 3px 1px rgba(0, 0, 0, 0.15);\n",
              "      filter: drop-shadow(0px 1px 2px rgba(0, 0, 0, 0.3));\n",
              "      fill: #FFFFFF;\n",
              "    }\n",
              "  </style>\n",
              "\n",
              "      <script>\n",
              "        const buttonEl =\n",
              "          document.querySelector('#df-c2d2ceb3-1440-4edc-82c6-b6299aae2589 button.colab-df-convert');\n",
              "        buttonEl.style.display =\n",
              "          google.colab.kernel.accessAllowed ? 'block' : 'none';\n",
              "\n",
              "        async function convertToInteractive(key) {\n",
              "          const element = document.querySelector('#df-c2d2ceb3-1440-4edc-82c6-b6299aae2589');\n",
              "          const dataTable =\n",
              "            await google.colab.kernel.invokeFunction('convertToInteractive',\n",
              "                                                     [key], {});\n",
              "          if (!dataTable) return;\n",
              "\n",
              "          const docLinkHtml = 'Like what you see? Visit the ' +\n",
              "            '<a target=\"_blank\" href=https://colab.research.google.com/notebooks/data_table.ipynb>data table notebook</a>'\n",
              "            + ' to learn more about interactive tables.';\n",
              "          element.innerHTML = '';\n",
              "          dataTable['output_type'] = 'display_data';\n",
              "          await google.colab.output.renderOutput(dataTable, element);\n",
              "          const docLink = document.createElement('div');\n",
              "          docLink.innerHTML = docLinkHtml;\n",
              "          element.appendChild(docLink);\n",
              "        }\n",
              "      </script>\n",
              "    </div>\n",
              "  </div>\n",
              "  "
            ],
            "text/plain": [
              "       gameId  playId   x_0_C  x_0_LT  x_0_LG  x_0_RG  x_0_RT  x_0.1_C  \\\n",
              "0  2021090900      97   42.10   41.38   41.93   41.41   41.11    42.03   \n",
              "1  2021090900     137  109.22  109.62  109.38  108.74  109.85   109.23   \n",
              "2  2021090900     187   77.67   78.27   78.04   77.89   78.27    77.74   \n",
              "3  2021090900     282   49.82   50.62   50.41   50.51   50.53    49.89   \n",
              "4  2021090900     349   54.93   55.78   55.73   55.72   55.78    55.01   \n",
              "\n",
              "   x_0.1_LT  x_0.1_LG  ...  dir_0.9_C  dir_0.9_LT  dir_0.9_LG  dir_0.9_RG  \\\n",
              "0     41.28     41.92  ...     285.24      287.77      270.50      257.73   \n",
              "1    109.62    109.40  ...     108.10       78.57       87.15       75.40   \n",
              "2     78.30     78.10  ...      66.90      114.62       58.75       65.39   \n",
              "3     50.63     50.36  ...     129.31       67.66      155.38      178.61   \n",
              "4     55.81     55.74  ...      92.44       99.67       99.29       68.57   \n",
              "\n",
              "   dir_0.9_RT  dir_1_C  dir_1_LT  dir_1_LG  dir_1_RG  dir_1_RT  \n",
              "0      265.30   283.12    284.67    269.06    254.98    271.06  \n",
              "1       52.29   101.57     86.06     87.84     74.85     59.29  \n",
              "2       66.44    67.82    108.23     58.58     67.31     71.08  \n",
              "3      193.86   133.71     65.34    133.87    165.07    189.11  \n",
              "4       71.53    93.19     99.64     95.55     69.08     71.77  \n",
              "\n",
              "[5 rows x 387 columns]"
            ]
          },
          "execution_count": 96,
          "metadata": {},
          "output_type": "execute_result"
        }
      ],
      "source": [
        "# Position data of all players for the first 1 second of the game, at 0.1 second time resolution\n",
        "# Position data: x-y position, speed, acceleration, distance traveled, orientation, direction\n",
        "\n",
        "field = pd.read_csv(\"https://raw.githubusercontent.com/fyng/PassplayNET/main/training_data.csv\")\n",
        "field = field.drop(['action_time', 'event'], axis = 1)\n",
        "\n",
        "print(field.shape)\n",
        "field.head()"
      ]
    },
    {
      "cell_type": "markdown",
      "metadata": {
        "id": "bL_Hicv39R_y"
      },
      "source": [
        "### Combined Game State Data"
      ]
    },
    {
      "cell_type": "code",
      "execution_count": null,
      "metadata": {
        "colab": {
          "base_uri": "https://localhost:8080/",
          "height": 270
        },
        "id": "cWGWY0Tj8HR9",
        "outputId": "bb6e0b66-49ca-44a8-96ba-8352f75cc90f"
      },
      "outputs": [
        {
          "name": "stdout",
          "output_type": "stream",
          "text": [
            "(8071, 391)\n",
            "(8069, 391)\n"
          ]
        },
        {
          "data": {
            "text/html": [
              "\n",
              "  <div id=\"df-bce55918-b877-40fe-b9a1-1ef74b1f443d\">\n",
              "    <div class=\"colab-df-container\">\n",
              "      <div>\n",
              "<style scoped>\n",
              "    .dataframe tbody tr th:only-of-type {\n",
              "        vertical-align: middle;\n",
              "    }\n",
              "\n",
              "    .dataframe tbody tr th {\n",
              "        vertical-align: top;\n",
              "    }\n",
              "\n",
              "    .dataframe thead th {\n",
              "        text-align: right;\n",
              "    }\n",
              "</style>\n",
              "<table border=\"1\" class=\"dataframe\">\n",
              "  <thead>\n",
              "    <tr style=\"text-align: right;\">\n",
              "      <th></th>\n",
              "      <th>gameId</th>\n",
              "      <th>playId</th>\n",
              "      <th>x_0_C</th>\n",
              "      <th>x_0_LT</th>\n",
              "      <th>x_0_LG</th>\n",
              "      <th>x_0_RG</th>\n",
              "      <th>x_0_RT</th>\n",
              "      <th>x_0.1_C</th>\n",
              "      <th>x_0.1_LT</th>\n",
              "      <th>x_0.1_LG</th>\n",
              "      <th>...</th>\n",
              "      <th>dir_0.9_RT</th>\n",
              "      <th>dir_1_C</th>\n",
              "      <th>dir_1_LT</th>\n",
              "      <th>dir_1_LG</th>\n",
              "      <th>dir_1_RG</th>\n",
              "      <th>dir_1_RT</th>\n",
              "      <th>quarter</th>\n",
              "      <th>down</th>\n",
              "      <th>yardsToGo</th>\n",
              "      <th>playResult</th>\n",
              "    </tr>\n",
              "  </thead>\n",
              "  <tbody>\n",
              "    <tr>\n",
              "      <th>0</th>\n",
              "      <td>2021090900</td>\n",
              "      <td>97</td>\n",
              "      <td>42.10</td>\n",
              "      <td>41.38</td>\n",
              "      <td>41.93</td>\n",
              "      <td>41.41</td>\n",
              "      <td>41.11</td>\n",
              "      <td>42.03</td>\n",
              "      <td>41.28</td>\n",
              "      <td>41.92</td>\n",
              "      <td>...</td>\n",
              "      <td>265.30</td>\n",
              "      <td>283.12</td>\n",
              "      <td>284.67</td>\n",
              "      <td>269.06</td>\n",
              "      <td>254.98</td>\n",
              "      <td>271.06</td>\n",
              "      <td>1</td>\n",
              "      <td>3</td>\n",
              "      <td>2</td>\n",
              "      <td>0</td>\n",
              "    </tr>\n",
              "    <tr>\n",
              "      <th>1</th>\n",
              "      <td>2021090900</td>\n",
              "      <td>137</td>\n",
              "      <td>109.22</td>\n",
              "      <td>109.62</td>\n",
              "      <td>109.38</td>\n",
              "      <td>108.74</td>\n",
              "      <td>109.85</td>\n",
              "      <td>109.23</td>\n",
              "      <td>109.62</td>\n",
              "      <td>109.40</td>\n",
              "      <td>...</td>\n",
              "      <td>52.29</td>\n",
              "      <td>101.57</td>\n",
              "      <td>86.06</td>\n",
              "      <td>87.84</td>\n",
              "      <td>74.85</td>\n",
              "      <td>59.29</td>\n",
              "      <td>1</td>\n",
              "      <td>1</td>\n",
              "      <td>10</td>\n",
              "      <td>28</td>\n",
              "    </tr>\n",
              "    <tr>\n",
              "      <th>2</th>\n",
              "      <td>2021090900</td>\n",
              "      <td>187</td>\n",
              "      <td>77.67</td>\n",
              "      <td>78.27</td>\n",
              "      <td>78.04</td>\n",
              "      <td>77.89</td>\n",
              "      <td>78.27</td>\n",
              "      <td>77.74</td>\n",
              "      <td>78.30</td>\n",
              "      <td>78.10</td>\n",
              "      <td>...</td>\n",
              "      <td>66.44</td>\n",
              "      <td>67.82</td>\n",
              "      <td>108.23</td>\n",
              "      <td>58.58</td>\n",
              "      <td>67.31</td>\n",
              "      <td>71.08</td>\n",
              "      <td>1</td>\n",
              "      <td>2</td>\n",
              "      <td>6</td>\n",
              "      <td>5</td>\n",
              "    </tr>\n",
              "    <tr>\n",
              "      <th>3</th>\n",
              "      <td>2021090900</td>\n",
              "      <td>282</td>\n",
              "      <td>49.82</td>\n",
              "      <td>50.62</td>\n",
              "      <td>50.41</td>\n",
              "      <td>50.51</td>\n",
              "      <td>50.53</td>\n",
              "      <td>49.89</td>\n",
              "      <td>50.63</td>\n",
              "      <td>50.36</td>\n",
              "      <td>...</td>\n",
              "      <td>193.86</td>\n",
              "      <td>133.71</td>\n",
              "      <td>65.34</td>\n",
              "      <td>133.87</td>\n",
              "      <td>165.07</td>\n",
              "      <td>189.11</td>\n",
              "      <td>1</td>\n",
              "      <td>1</td>\n",
              "      <td>10</td>\n",
              "      <td>0</td>\n",
              "    </tr>\n",
              "    <tr>\n",
              "      <th>4</th>\n",
              "      <td>2021090900</td>\n",
              "      <td>349</td>\n",
              "      <td>54.93</td>\n",
              "      <td>55.78</td>\n",
              "      <td>55.73</td>\n",
              "      <td>55.72</td>\n",
              "      <td>55.78</td>\n",
              "      <td>55.01</td>\n",
              "      <td>55.81</td>\n",
              "      <td>55.74</td>\n",
              "      <td>...</td>\n",
              "      <td>71.53</td>\n",
              "      <td>93.19</td>\n",
              "      <td>99.64</td>\n",
              "      <td>95.55</td>\n",
              "      <td>69.08</td>\n",
              "      <td>71.77</td>\n",
              "      <td>1</td>\n",
              "      <td>3</td>\n",
              "      <td>15</td>\n",
              "      <td>0</td>\n",
              "    </tr>\n",
              "  </tbody>\n",
              "</table>\n",
              "<p>5 rows × 391 columns</p>\n",
              "</div>\n",
              "      <button class=\"colab-df-convert\" onclick=\"convertToInteractive('df-bce55918-b877-40fe-b9a1-1ef74b1f443d')\"\n",
              "              title=\"Convert this dataframe to an interactive table.\"\n",
              "              style=\"display:none;\">\n",
              "        \n",
              "  <svg xmlns=\"http://www.w3.org/2000/svg\" height=\"24px\"viewBox=\"0 0 24 24\"\n",
              "       width=\"24px\">\n",
              "    <path d=\"M0 0h24v24H0V0z\" fill=\"none\"/>\n",
              "    <path d=\"M18.56 5.44l.94 2.06.94-2.06 2.06-.94-2.06-.94-.94-2.06-.94 2.06-2.06.94zm-11 1L8.5 8.5l.94-2.06 2.06-.94-2.06-.94L8.5 2.5l-.94 2.06-2.06.94zm10 10l.94 2.06.94-2.06 2.06-.94-2.06-.94-.94-2.06-.94 2.06-2.06.94z\"/><path d=\"M17.41 7.96l-1.37-1.37c-.4-.4-.92-.59-1.43-.59-.52 0-1.04.2-1.43.59L10.3 9.45l-7.72 7.72c-.78.78-.78 2.05 0 2.83L4 21.41c.39.39.9.59 1.41.59.51 0 1.02-.2 1.41-.59l7.78-7.78 2.81-2.81c.8-.78.8-2.07 0-2.86zM5.41 20L4 18.59l7.72-7.72 1.47 1.35L5.41 20z\"/>\n",
              "  </svg>\n",
              "      </button>\n",
              "      \n",
              "  <style>\n",
              "    .colab-df-container {\n",
              "      display:flex;\n",
              "      flex-wrap:wrap;\n",
              "      gap: 12px;\n",
              "    }\n",
              "\n",
              "    .colab-df-convert {\n",
              "      background-color: #E8F0FE;\n",
              "      border: none;\n",
              "      border-radius: 50%;\n",
              "      cursor: pointer;\n",
              "      display: none;\n",
              "      fill: #1967D2;\n",
              "      height: 32px;\n",
              "      padding: 0 0 0 0;\n",
              "      width: 32px;\n",
              "    }\n",
              "\n",
              "    .colab-df-convert:hover {\n",
              "      background-color: #E2EBFA;\n",
              "      box-shadow: 0px 1px 2px rgba(60, 64, 67, 0.3), 0px 1px 3px 1px rgba(60, 64, 67, 0.15);\n",
              "      fill: #174EA6;\n",
              "    }\n",
              "\n",
              "    [theme=dark] .colab-df-convert {\n",
              "      background-color: #3B4455;\n",
              "      fill: #D2E3FC;\n",
              "    }\n",
              "\n",
              "    [theme=dark] .colab-df-convert:hover {\n",
              "      background-color: #434B5C;\n",
              "      box-shadow: 0px 1px 3px 1px rgba(0, 0, 0, 0.15);\n",
              "      filter: drop-shadow(0px 1px 2px rgba(0, 0, 0, 0.3));\n",
              "      fill: #FFFFFF;\n",
              "    }\n",
              "  </style>\n",
              "\n",
              "      <script>\n",
              "        const buttonEl =\n",
              "          document.querySelector('#df-bce55918-b877-40fe-b9a1-1ef74b1f443d button.colab-df-convert');\n",
              "        buttonEl.style.display =\n",
              "          google.colab.kernel.accessAllowed ? 'block' : 'none';\n",
              "\n",
              "        async function convertToInteractive(key) {\n",
              "          const element = document.querySelector('#df-bce55918-b877-40fe-b9a1-1ef74b1f443d');\n",
              "          const dataTable =\n",
              "            await google.colab.kernel.invokeFunction('convertToInteractive',\n",
              "                                                     [key], {});\n",
              "          if (!dataTable) return;\n",
              "\n",
              "          const docLinkHtml = 'Like what you see? Visit the ' +\n",
              "            '<a target=\"_blank\" href=https://colab.research.google.com/notebooks/data_table.ipynb>data table notebook</a>'\n",
              "            + ' to learn more about interactive tables.';\n",
              "          element.innerHTML = '';\n",
              "          dataTable['output_type'] = 'display_data';\n",
              "          await google.colab.output.renderOutput(dataTable, element);\n",
              "          const docLink = document.createElement('div');\n",
              "          docLink.innerHTML = docLinkHtml;\n",
              "          element.appendChild(docLink);\n",
              "        }\n",
              "      </script>\n",
              "    </div>\n",
              "  </div>\n",
              "  "
            ],
            "text/plain": [
              "       gameId  playId   x_0_C  x_0_LT  x_0_LG  x_0_RG  x_0_RT  x_0.1_C  \\\n",
              "0  2021090900      97   42.10   41.38   41.93   41.41   41.11    42.03   \n",
              "1  2021090900     137  109.22  109.62  109.38  108.74  109.85   109.23   \n",
              "2  2021090900     187   77.67   78.27   78.04   77.89   78.27    77.74   \n",
              "3  2021090900     282   49.82   50.62   50.41   50.51   50.53    49.89   \n",
              "4  2021090900     349   54.93   55.78   55.73   55.72   55.78    55.01   \n",
              "\n",
              "   x_0.1_LT  x_0.1_LG  ...  dir_0.9_RT  dir_1_C  dir_1_LT  dir_1_LG  dir_1_RG  \\\n",
              "0     41.28     41.92  ...      265.30   283.12    284.67    269.06    254.98   \n",
              "1    109.62    109.40  ...       52.29   101.57     86.06     87.84     74.85   \n",
              "2     78.30     78.10  ...       66.44    67.82    108.23     58.58     67.31   \n",
              "3     50.63     50.36  ...      193.86   133.71     65.34    133.87    165.07   \n",
              "4     55.81     55.74  ...       71.53    93.19     99.64     95.55     69.08   \n",
              "\n",
              "   dir_1_RT  quarter  down  yardsToGo  playResult  \n",
              "0    271.06        1     3          2           0  \n",
              "1     59.29        1     1         10          28  \n",
              "2     71.08        1     2          6           5  \n",
              "3    189.11        1     1         10           0  \n",
              "4     71.77        1     3         15           0  \n",
              "\n",
              "[5 rows x 391 columns]"
            ]
          },
          "execution_count": 76,
          "metadata": {},
          "output_type": "execute_result"
        }
      ],
      "source": [
        "# Each row is a unique combination of playId and gameId\n",
        "\n",
        "data = pd.merge(field, play, on=['gameId', 'playId'])\n",
        "\n",
        "# remove NaN and Inf\n",
        "print(data.shape)\n",
        "data = data[~data.isin([np.nan, np.inf, -np.inf]).any(1)]\n",
        "print(data.shape)\n",
        "\n",
        "data.head()"
      ]
    },
    {
      "cell_type": "markdown",
      "metadata": {
        "id": "Tz8adDIbAbGq"
      },
      "source": [
        "### Understanding the Data"
      ]
    },
    {
      "cell_type": "code",
      "execution_count": null,
      "metadata": {
        "colab": {
          "base_uri": "https://localhost:8080/",
          "height": 1000
        },
        "id": "pe6l15CsAlUy",
        "outputId": "536339a9-1279-4816-973e-a717aa437a0a"
      },
      "outputs": [
        {
          "data": {
            "image/png": "[encoded data removed]",
            "text/plain": [
              "<Figure size 432x288 with 1 Axes>"
            ]
          },
          "metadata": {},
          "output_type": "display_data"
        },
        {
          "data": {
            "image/png": "[encoded data removed]",
            "text/plain": [
              "<Figure size 432x288 with 1 Axes>"
            ]
          },
          "metadata": {},
          "output_type": "display_data"
        },
        {
          "data": {
            "image/png": "[encoded data removed]",
            "text/plain": [
              "<Figure size 432x288 with 1 Axes>"
            ]
          },
          "metadata": {},
          "output_type": "display_data"
        },
        {
          "data": {
            "image/png": "[encoded data removed]",
            "text/plain": [
              "<Figure size 432x288 with 1 Axes>"
            ]
          },
          "metadata": {},
          "output_type": "display_data"
        }
      ],
      "source": [
        "plt.hist(data[data['down'] == 0]['playResult'], bins=[-40, 0, 1, 10, 40])\n",
        "plt.show()\n",
        "\n",
        "plt.hist(data[data['down'] == 1]['playResult'], bins=[-40, 0, 1, 10, 40])\n",
        "plt.show()\n",
        "\n",
        "plt.hist(data[data['down'] == 2]['playResult'], bins=[-40, 0, 1, 10, 40])\n",
        "plt.show()\n",
        "\n",
        "plt.hist(data[data['down'] == 3]['playResult'], bins=[-40, 0, 1, 10, 40])\n",
        "plt.show()\n",
        "# Question for Eric: is it intuitive for most plays to have 0 net yards gained?"
      ]
    },
    {
      "cell_type": "markdown",
      "metadata": {
        "id": "aNO6oNgg-vrq"
      },
      "source": [
        "# Models"
      ]
    },
    {
      "cell_type": "code",
      "execution_count": null,
      "metadata": {
        "colab": {
          "base_uri": "https://localhost:8080/",
          "height": 265
        },
        "id": "Go4pUnjN8SxU",
        "outputId": "77ad5979-73f0-4214-a104-8be513a14416"
      },
      "outputs": [
        {
          "data": {
            "image/png": "[encoded data removed]",
            "text/plain": [
              "<Figure size 432x288 with 1 Axes>"
            ]
          },
          "metadata": {},
          "output_type": "display_data"
        }
      ],
      "source": [
        "X = data.loc[:, 'x_0_C':'yardsToGo']\n",
        "names = X.columns\n",
        "scalar = preprocessing.StandardScaler()\n",
        "X = scalar.fit_transform(X)\n",
        "\n",
        "plt.hist(X.mean(axis = 1))\n",
        "plt.hist(X.std(axis = 1))\n",
        "\n",
        "y = data['playResult']\n",
        "\n",
        "X_train, X_test, y_train, y_test = train_test_split(X, y, test_size=0.2, random_state=42)"
      ]
    },
    {
      "cell_type": "code",
      "execution_count": null,
      "metadata": {
        "colab": {
          "base_uri": "https://localhost:8080/"
        },
        "id": "cbzbfNPO-yRE",
        "outputId": "2d2978ad-49d2-4f12-e882-4b1cf4ef9d6e"
      },
      "outputs": [
        {
          "data": {
            "text/plain": [
              "-0.05799500618530007"
            ]
          },
          "execution_count": 144,
          "metadata": {},
          "output_type": "execute_result"
        }
      ],
      "source": [
        "# try simple linear regression first\n",
        "\n",
        "from sklearn.linear_model import LinearRegression\n",
        "reg = LinearRegression().fit(X_train, y_train)\n",
        "reg.score(X_test, y_test)"
      ]
    },
    {
      "cell_type": "markdown",
      "metadata": {
        "id": "NbE8kS4UAQyx"
      },
      "source": [
        "That doesn't look too good.. Let's try something more advanced"
      ]
    },
    {
      "cell_type": "code",
      "execution_count": null,
      "metadata": {
        "id": "3FLovmq-_7oD"
      },
      "outputs": [],
      "source": [
        "# how about a decision tree?\n",
        "from sklearn import tree\n",
        "score = []\n",
        "\n",
        "for i in range(5, 20, 5):\n",
        "    clf = tree.DecisionTreeRegressor(min_samples_leaf=5, max_depth=i, random_state=42)\n",
        "    clf = clf.fit(X_train, y_train)\n",
        "    clf_score = clf.score(X_test, y_test)\n",
        "    score.append(clf_score)"
      ]
    },
    {
      "cell_type": "code",
      "execution_count": null,
      "metadata": {
        "colab": {
          "base_uri": "https://localhost:8080/",
          "height": 282
        },
        "id": "Bi-9NXMcDm8j",
        "outputId": "45511ecb-73f7-4f45-fa9c-3ca7cbaa85e8"
      },
      "outputs": [
        {
          "data": {
            "text/plain": [
              "[<matplotlib.lines.Line2D at 0x7f775e2cc940>]"
            ]
          },
          "execution_count": 118,
          "metadata": {},
          "output_type": "execute_result"
        },
        {
          "data": {
            "image/png": "[encoded data removed]",
            "text/plain": [
              "<Figure size 432x288 with 1 Axes>"
            ]
          },
          "metadata": {},
          "output_type": "display_data"
        }
      ],
      "source": [
        "plt.plot(range(5, 20, 5), score)"
      ]
    },
    {
      "cell_type": "markdown",
      "metadata": {
        "id": "whcPxiO-IiQM"
      },
      "source": [
        "Decision tree also does poorly, furthermore deeper trees overfit. Oh-oh.."
      ]
    },
    {
      "cell_type": "code",
      "execution_count": null,
      "metadata": {
        "colab": {
          "base_uri": "https://localhost:8080/",
          "height": 301
        },
        "id": "iAn-islbDrcE",
        "outputId": "3b07c8e2-ceef-4c78-b4ed-6af9c2aafd54"
      },
      "outputs": [
        {
          "data": {
            "text/plain": [
              "Text(0, 0.5, 'Principal Component 2')"
            ]
          },
          "execution_count": 149,
          "metadata": {},
          "output_type": "execute_result"
        },
        {
          "data": {
            "image/png": "[encoded data removed]",
            "text/plain": [
              "<Figure size 432x288 with 1 Axes>"
            ]
          },
          "metadata": {},
          "output_type": "display_data"
        }
      ],
      "source": [
        "# Do some PCA\n",
        "from sklearn.decomposition import PCA\n",
        "pca = PCA(n_components=2)\n",
        "principalComponents = pca.fit_transform(X)\n",
        "\n",
        "principalDf = pd.DataFrame(data = principalComponents\n",
        "             , columns = ['pc1', 'pc2'])\n",
        "finalDf = pd.concat([principalDf, y], axis = 1)\n",
        "\n",
        "plt.scatter(finalDf['pc1'], finalDf['pc2'])\n",
        "plt.xlabel('Principal Component 1', fontsize = 15)\n",
        "plt.ylabel('Principal Component 2', fontsize = 15)\n",
        "\n",
        "# fig = plt.figure(figsize = (8,8))\n",
        "# ax = fig.add_subplot(1,1,1) \n",
        "# ax.set_xlabel('Principal Component 1', fontsize = 15)\n",
        "# ax.set_ylabel('Principal Component 2', fontsize = 15)\n",
        "# ax.set_title('2 component PCA', fontsize = 20)\n",
        "# targets = y.unique().tolist()\n",
        "# colors = ['r', 'g', 'b']\n",
        "# for target in targets:\n",
        "#     # rgb = (np.random.rand(), np.random.rand(), np.random.rand())\n",
        "#     indicesToKeep = finalDf['playResult'] == target\n",
        "#     ax.scatter(finalDf.loc[indicesToKeep, 'principal component 1']\n",
        "#                , finalDf.loc[indicesToKeep, 'principal component 2']\n",
        "#             #    , c = rgb\n",
        "#                , s = 50)\n",
        "# ax.legend(targets)\n",
        "# ax.grid()\n"
      ]
    },
    {
      "cell_type": "code",
      "execution_count": null,
      "metadata": {
        "colab": {
          "base_uri": "https://localhost:8080/",
          "height": 35
        },
        "id": "lga93768MZ87",
        "outputId": "19653ac3-f7f1-4584-adb7-a7aa5a2e00d2"
      },
      "outputs": [
        {
          "data": {
            "application/vnd.google.colaboratory.intrinsic+json": {
              "type": "string"
            },
            "text/plain": [
              "'dir_1_C'"
            ]
          },
          "execution_count": 155,
          "metadata": {},
          "output_type": "execute_result"
        }
      ],
      "source": [
        "i = pca.components_[0,:].argmax()\n",
        "names[i]"
      ]
    },
    {
      "cell_type": "code",
      "execution_count": null,
      "metadata": {
        "colab": {
          "background_save": true
        },
        "id": "dzwtdgVmQ0AF",
        "outputId": "46505c3e-85ea-424a-bf1d-0277752b2789"
      },
      "outputs": [
        {
          "data": {
            "text/plain": [
              "-0.04565543678507833"
            ]
          },
          "execution_count": 166,
          "metadata": {},
          "output_type": "execute_result"
        }
      ],
      "source": [
        "# Random forest\n",
        "\n",
        "from sklearn.ensemble import RandomForestRegressor\n",
        "rf = RandomForestRegressor(n_estimators = 1000, random_state = 42)\n",
        "# Train the model on training data\n",
        "rf.fit(X_train, y_train)\n",
        "rf.score(X_test, y_test)"
      ]
    },
    {
      "cell_type": "markdown",
      "metadata": {
        "id": "Md2VthsoQzx4"
      },
      "source": []
    }
  ],
  "metadata": {
    "colab": {
      "provenance": [],
      "authorship_tag": "ABX9TyMrLOMRtJ06gEekDBon6bg8",
      "include_colab_link": true
    },
    "kernelspec": {
      "display_name": "Python 3",
      "name": "python3"
    },
    "language_info": {
      "name": "python"
    }
  },
  "nbformat": 4,
  "nbformat_minor": 0
}